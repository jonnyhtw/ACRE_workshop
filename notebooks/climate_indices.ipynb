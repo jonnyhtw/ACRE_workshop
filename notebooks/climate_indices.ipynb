{
 "cells": [
  {
   "cell_type": "markdown",
   "metadata": {},
   "source": [
    "# climate indices: reading pre-existing indices and creating indices from climate fields "
   ]
  },
  {
   "cell_type": "code",
   "execution_count": 14,
   "metadata": {
    "collapsed": true
   },
   "outputs": [],
   "source": [
    "%matplotlib inline\n",
    "import os\n",
    "import sys\n",
    "import numpy as np\n",
    "import pandas as pd\n",
    "from matplotlib import pyplot as plt\n",
    "import xarray as xr"
   ]
  },
  {
   "cell_type": "code",
   "execution_count": 15,
   "metadata": {
    "collapsed": true
   },
   "outputs": [],
   "source": [
    "from datetime import datetime, timedelta\n",
    "from dateutil.parser import parse as dparse\n",
    "import calendar"
   ]
  },
  {
   "cell_type": "code",
   "execution_count": 16,
   "metadata": {
    "collapsed": true
   },
   "outputs": [],
   "source": [
    "from IPython.display import Image, HTML"
   ]
  },
  {
   "cell_type": "markdown",
   "metadata": {},
   "source": [
    "In this notebook we'll see how to read publicly accessible climate indices, using the [pandas](https://pandas.pydata.org/)\n",
    "library, and create climate indices (regional averages of a spatial climate variable) using the [xarray](https://pandas.pydata.org/) library"
   ]
  },
  {
   "cell_type": "markdown",
   "metadata": {},
   "source": [
    "[pandas](https://pandas.pydata.org/) is providing fast, flexible, and expressive data structures designed to work with *relational* or *labeled* data. It is a fundamental high-level building block for doing practical, real world data analysis in Python. \n",
    "\n",
    "pandas is well suited for:\n",
    "\n",
    "- Tabular data with heterogeneously-typed columns, as in an SQL table or Excel spreadsheet\n",
    "- Ordered and unordered (not necessarily fixed-frequency) time series data.\n",
    "- Arbitrary matrix data (homogeneously typed or heterogeneous) with row and column labels\n",
    "- Any other form of observational / statistical data sets. The data actually need not be labeled at all to be placed into a pandas data structure\n",
    "\n",
    "\n",
    "Key features:  \n",
    "    \n",
    "- Easy handling of **missing data**\n",
    "- **Size mutability**: columns can be inserted and deleted from DataFrame and higher dimensional objects\n",
    "- Automatic and explicit **data alignment**: objects can be explicitly aligned to a set of labels, or the data can be aligned automatically\n",
    "- Powerful, flexible **group by functionality** to perform split-apply-combine operations on data sets\n",
    "- Intelligent label-based **slicing, fancy indexing, and subsetting** of large data sets\n",
    "- Intuitive **merging and joining** data sets\n",
    "- Flexible **reshaping and pivoting** of data sets\n",
    "- **Hierarchical labeling** of axes\n",
    "- Robust **IO tools** for loading data from flat files, Excel files, databases, and HDF5\n",
    "- **Time series functionality**: date range generation and frequency conversion, moving window statistics, moving window linear regressions, date shifting and lagging, etc."
   ]
  },
  {
   "cell_type": "code",
   "execution_count": 17,
   "metadata": {},
   "outputs": [
    {
     "data": {
      "text/html": [
       "<iframe src=http://pandas.pydata.org/index.html width=1000 height=400></iframe>"
      ],
      "text/plain": [
       "<IPython.core.display.HTML object>"
      ]
     },
     "execution_count": 17,
     "metadata": {},
     "output_type": "execute_result"
    }
   ],
   "source": [
    "HTML('<iframe src=http://pandas.pydata.org/index.html width=1000 height=400></iframe>')"
   ]
  },
  {
   "cell_type": "markdown",
   "metadata": {},
   "source": [
    "[xarray](https://github.com/xarray/xarray) (formerly `xray`) has been developed by scientists / engineers working at the [Climate Corporation](http://climate.com/)\n",
    "\n",
    "It is an open source project and Python package that aims to bring\n",
    "the labeled data power of [pandas](http://pandas.pydata.org) to the\n",
    "physical sciences, by providing N-dimensional variants of the core\n",
    "[pandas](http://pandas.pydata.org) data structures, `Series` and\n",
    "`DataFrame`: the xray `DataArray` and `Dataset`.\n",
    "\n",
    "the goal is to provide a pandas-like and pandas-compatible toolkit for\n",
    "analytics on multi-dimensional arrays, rather than the tabular data for\n",
    "which pandas excels. The approach adopts the [Common Data\n",
    "Model](http://www.unidata.ucar.edu/software/thredds/current/netcdf-java/CDM)\n",
    "for self-describing scientific data in widespread use in the Earth\n",
    "sciences (e.g., [netCDF](http://www.unidata.ucar.edu/software/netcdf)\n",
    "and [OPeNDAP](http://www.opendap.org/)): `xray.Dataset` is an in-memory\n",
    "representation of a netCDF file.\n",
    "\n",
    "-   HTML documentation: <http://xarray.readthedocs.org>: **really good doc !**\n",
    "-   Source code: <http://github.com/xarray/xarray>\n",
    "\n",
    "The main advantages of using [xarray](https://github.com/xarray/xarray) versus [netCDF4](https://github.com/Unidata/netcdf4-python) are: \n",
    "\n",
    "+ intelligent selection along **labelled dimensions** (and also indexes)\n",
    "+ **groupby** operations\n",
    "+ **resampling** operations\n",
    "+ data alignment \n",
    "+ IO (netcdf)\n",
    "+ conversion from / to [Pandas.DataFrames](http://pandas.pydata.org/pandas-docs/dev/generated/pandas.DataFrame.html)\n",
    "\n",
    "\n",
    "To install the latest version of xarray (via conda): \n",
    "\n",
    "    ᐅ conda install xarray\n",
    "\n",
    "or if you want the bleeding edge: \n",
    "\n",
    "\n",
    "    ᐅ pip install git+https://github.com/xarray/xarray"
   ]
  },
  {
   "cell_type": "code",
   "execution_count": 18,
   "metadata": {},
   "outputs": [
    {
     "data": {
      "text/html": [
       "<iframe src=http://xarray.pydata.org/en/stable/ width=1000 height=400></iframe>"
      ],
      "text/plain": [
       "<IPython.core.display.HTML object>"
      ]
     },
     "execution_count": 18,
     "metadata": {},
     "output_type": "execute_result"
    }
   ],
   "source": [
    "HTML('<iframe src=http://xarray.pydata.org/en/stable/ width=1000 height=400></iframe>')"
   ]
  },
  {
   "cell_type": "markdown",
   "metadata": {},
   "source": [
    "## NINO3.4 from NOAA's Earth System Research Laboratory"
   ]
  },
  {
   "cell_type": "code",
   "execution_count": 59,
   "metadata": {
    "collapsed": true
   },
   "outputs": [],
   "source": [
    "url = 'https://www.esrl.noaa.gov/psd/data/correlation/nina34.data'"
   ]
  },
  {
   "cell_type": "markdown",
   "metadata": {},
   "source": [
    "#### read the data, we skip the first row as well as the last 3 rows, with any space / tabs a separator, and coding the values -99.9 as missing"
   ]
  },
  {
   "cell_type": "code",
   "execution_count": 60,
   "metadata": {},
   "outputs": [],
   "source": [
    "nino_esrl = pd.read_table(url, skiprows=1, skipfooter=3, engine='python', sep=r'\\s+', header=None, na_values=[-99.99], index_col=0)"
   ]
  },
  {
   "cell_type": "code",
   "execution_count": 61,
   "metadata": {},
   "outputs": [
    {
     "data": {
      "text/html": [
       "<div>\n",
       "<style scoped>\n",
       "    .dataframe tbody tr th:only-of-type {\n",
       "        vertical-align: middle;\n",
       "    }\n",
       "\n",
       "    .dataframe tbody tr th {\n",
       "        vertical-align: top;\n",
       "    }\n",
       "\n",
       "    .dataframe thead th {\n",
       "        text-align: right;\n",
       "    }\n",
       "</style>\n",
       "<table border=\"1\" class=\"dataframe\">\n",
       "  <thead>\n",
       "    <tr style=\"text-align: right;\">\n",
       "      <th></th>\n",
       "      <th>1</th>\n",
       "      <th>2</th>\n",
       "      <th>3</th>\n",
       "      <th>4</th>\n",
       "      <th>5</th>\n",
       "      <th>6</th>\n",
       "      <th>7</th>\n",
       "      <th>8</th>\n",
       "      <th>9</th>\n",
       "      <th>10</th>\n",
       "      <th>11</th>\n",
       "      <th>12</th>\n",
       "    </tr>\n",
       "    <tr>\n",
       "      <th>0</th>\n",
       "      <th></th>\n",
       "      <th></th>\n",
       "      <th></th>\n",
       "      <th></th>\n",
       "      <th></th>\n",
       "      <th></th>\n",
       "      <th></th>\n",
       "      <th></th>\n",
       "      <th></th>\n",
       "      <th></th>\n",
       "      <th></th>\n",
       "      <th></th>\n",
       "    </tr>\n",
       "  </thead>\n",
       "  <tbody>\n",
       "    <tr>\n",
       "      <th>1948</th>\n",
       "      <td>NaN</td>\n",
       "      <td>NaN</td>\n",
       "      <td>NaN</td>\n",
       "      <td>NaN</td>\n",
       "      <td>NaN</td>\n",
       "      <td>NaN</td>\n",
       "      <td>NaN</td>\n",
       "      <td>NaN</td>\n",
       "      <td>NaN</td>\n",
       "      <td>NaN</td>\n",
       "      <td>NaN</td>\n",
       "      <td>NaN</td>\n",
       "    </tr>\n",
       "    <tr>\n",
       "      <th>1949</th>\n",
       "      <td>NaN</td>\n",
       "      <td>NaN</td>\n",
       "      <td>NaN</td>\n",
       "      <td>NaN</td>\n",
       "      <td>NaN</td>\n",
       "      <td>NaN</td>\n",
       "      <td>NaN</td>\n",
       "      <td>NaN</td>\n",
       "      <td>NaN</td>\n",
       "      <td>NaN</td>\n",
       "      <td>NaN</td>\n",
       "      <td>NaN</td>\n",
       "    </tr>\n",
       "    <tr>\n",
       "      <th>1950</th>\n",
       "      <td>24.55</td>\n",
       "      <td>25.06</td>\n",
       "      <td>25.87</td>\n",
       "      <td>26.28</td>\n",
       "      <td>26.18</td>\n",
       "      <td>26.46</td>\n",
       "      <td>26.29</td>\n",
       "      <td>25.88</td>\n",
       "      <td>25.74</td>\n",
       "      <td>25.69</td>\n",
       "      <td>25.47</td>\n",
       "      <td>25.29</td>\n",
       "    </tr>\n",
       "    <tr>\n",
       "      <th>1951</th>\n",
       "      <td>25.24</td>\n",
       "      <td>25.71</td>\n",
       "      <td>26.90</td>\n",
       "      <td>27.58</td>\n",
       "      <td>27.92</td>\n",
       "      <td>27.73</td>\n",
       "      <td>27.60</td>\n",
       "      <td>27.02</td>\n",
       "      <td>27.23</td>\n",
       "      <td>27.20</td>\n",
       "      <td>27.25</td>\n",
       "      <td>26.91</td>\n",
       "    </tr>\n",
       "    <tr>\n",
       "      <th>1952</th>\n",
       "      <td>26.67</td>\n",
       "      <td>26.74</td>\n",
       "      <td>27.17</td>\n",
       "      <td>27.80</td>\n",
       "      <td>27.79</td>\n",
       "      <td>27.18</td>\n",
       "      <td>26.53</td>\n",
       "      <td>26.30</td>\n",
       "      <td>26.36</td>\n",
       "      <td>26.26</td>\n",
       "      <td>25.92</td>\n",
       "      <td>26.21</td>\n",
       "    </tr>\n",
       "  </tbody>\n",
       "</table>\n",
       "</div>"
      ],
      "text/plain": [
       "         1      2      3      4      5      6      7      8      9      10  \\\n",
       "0                                                                            \n",
       "1948    NaN    NaN    NaN    NaN    NaN    NaN    NaN    NaN    NaN    NaN   \n",
       "1949    NaN    NaN    NaN    NaN    NaN    NaN    NaN    NaN    NaN    NaN   \n",
       "1950  24.55  25.06  25.87  26.28  26.18  26.46  26.29  25.88  25.74  25.69   \n",
       "1951  25.24  25.71  26.90  27.58  27.92  27.73  27.60  27.02  27.23  27.20   \n",
       "1952  26.67  26.74  27.17  27.80  27.79  27.18  26.53  26.30  26.36  26.26   \n",
       "\n",
       "         11     12  \n",
       "0                   \n",
       "1948    NaN    NaN  \n",
       "1949    NaN    NaN  \n",
       "1950  25.47  25.29  \n",
       "1951  27.25  26.91  \n",
       "1952  25.92  26.21  "
      ]
     },
     "execution_count": 61,
     "metadata": {},
     "output_type": "execute_result"
    }
   ],
   "source": [
    "nino_esrl.head()"
   ]
  },
  {
   "cell_type": "markdown",
   "metadata": {},
   "source": [
    "#### stacking (from 2D to 1D)"
   ]
  },
  {
   "cell_type": "code",
   "execution_count": 62,
   "metadata": {},
   "outputs": [],
   "source": [
    "nino_esrl = nino_esrl.stack(dropna=False)"
   ]
  },
  {
   "cell_type": "markdown",
   "metadata": {},
   "source": [
    "#### creating a datetime index"
   ]
  },
  {
   "cell_type": "code",
   "execution_count": 63,
   "metadata": {
    "collapsed": true
   },
   "outputs": [],
   "source": [
    "date_start = datetime(*list(nino_esrl.index[0]) + [1])"
   ]
  },
  {
   "cell_type": "code",
   "execution_count": 64,
   "metadata": {
    "collapsed": true
   },
   "outputs": [],
   "source": [
    "date_end = datetime(*list(nino_esrl.index[-1]) + [1])"
   ]
  },
  {
   "cell_type": "code",
   "execution_count": 65,
   "metadata": {
    "collapsed": true
   },
   "outputs": [],
   "source": [
    "nino_esrl.index = pd.date_range(start=date_start, end=date_end, freq='MS')"
   ]
  },
  {
   "cell_type": "markdown",
   "metadata": {},
   "source": [
    "#### Pandas as very convenient high level plotting methods"
   ]
  },
  {
   "cell_type": "code",
   "execution_count": 66,
   "metadata": {},
   "outputs": [
    {
     "data": {
      "text/plain": [
       "<matplotlib.axes._subplots.AxesSubplot at 0x1152d9b00>"
      ]
     },
     "execution_count": 66,
     "metadata": {},
     "output_type": "execute_result"
    },
    {
     "data": {
      "image/png": "[encoded data removed]",
      "text/plain": [
       "<matplotlib.figure.Figure at 0x1152fef60>"
      ]
     },
     "metadata": {},
     "output_type": "display_data"
    }
   ],
   "source": [
    "nino_esrl.plot()"
   ]
  },
  {
   "cell_type": "code",
   "execution_count": 67,
   "metadata": {},
   "outputs": [
    {
     "data": {
      "text/plain": [
       "2017-08-01    26.69\n",
       "2017-09-01    26.28\n",
       "2017-10-01    26.22\n",
       "2017-11-01      NaN\n",
       "2017-12-01      NaN\n",
       "Freq: MS, dtype: float64"
      ]
     },
     "execution_count": 67,
     "metadata": {},
     "output_type": "execute_result"
    }
   ],
   "source": [
    "nino_esrl.tail()"
   ]
  },
  {
   "cell_type": "markdown",
   "metadata": {},
   "source": [
    "#### `nino_esrl` is a [Pandas Series](http://pandas.pydata.org/pandas-docs/stable/dsintro.html#series), we casting it to a [Dataframe](http://pandas.pydata.org/pandas-docs/stable/dsintro.html#dataframe)"
   ]
  },
  {
   "cell_type": "code",
   "execution_count": 68,
   "metadata": {},
   "outputs": [],
   "source": [
    "nino_esrl = nino_esrl.to_frame(name='NINO34')"
   ]
  },
  {
   "cell_type": "markdown",
   "metadata": {},
   "source": [
    "#### calculating a climatology "
   ]
  },
  {
   "cell_type": "code",
   "execution_count": 72,
   "metadata": {
    "collapsed": true
   },
   "outputs": [],
   "source": [
    "clim_esrl = nino_esrl.loc['1981':'2010',:]"
   ]
  },
  {
   "cell_type": "code",
   "execution_count": 73,
   "metadata": {
    "collapsed": true
   },
   "outputs": [],
   "source": [
    "clim_esrl = clim_esrl.groupby(clim_esrl.index.month).mean()"
   ]
  },
  {
   "cell_type": "code",
   "execution_count": 74,
   "metadata": {},
   "outputs": [
    {
     "data": {
      "text/plain": [
       "<matplotlib.axes._subplots.AxesSubplot at 0x11540aa58>"
      ]
     },
     "execution_count": 74,
     "metadata": {},
     "output_type": "execute_result"
    },
    {
     "data": {
      "image/png": "[encoded data removed]",
      "text/plain": [
       "<matplotlib.figure.Figure at 0x11552d320>"
      ]
     },
     "metadata": {},
     "output_type": "display_data"
    }
   ],
   "source": [
    "clim_esrl.plot()"
   ]
  },
  {
   "cell_type": "markdown",
   "metadata": {},
   "source": [
    "#### calculating anomalies WRT a given climatology"
   ]
  },
  {
   "cell_type": "code",
   "execution_count": 77,
   "metadata": {
    "collapsed": true
   },
   "outputs": [],
   "source": [
    "def demean(x): \n",
    "    return x - x.loc['1981':'2010',:].mean()"
   ]
  },
  {
   "cell_type": "code",
   "execution_count": 78,
   "metadata": {
    "collapsed": true
   },
   "outputs": [],
   "source": [
    "nino_esrl = nino_esrl.groupby(nino_esrl.index.month).apply(demean)"
   ]
  },
  {
   "cell_type": "code",
   "execution_count": 79,
   "metadata": {},
   "outputs": [
    {
     "data": {
      "text/plain": [
       "<matplotlib.axes._subplots.AxesSubplot at 0x115765780>"
      ]
     },
     "execution_count": 79,
     "metadata": {},
     "output_type": "execute_result"
    },
    {
     "data": {
      "image/png": "[encoded data removed]",
      "text/plain": [
       "<matplotlib.figure.Figure at 0x114f60c18>"
      ]
     },
     "metadata": {},
     "output_type": "display_data"
    }
   ],
   "source": [
    "nino_esrl.plot()"
   ]
  },
  {
   "cell_type": "markdown",
   "metadata": {},
   "source": [
    "### comparing with the NOAA Climate Prediction Center NINO3.4 index"
   ]
  },
  {
   "cell_type": "code",
   "execution_count": 80,
   "metadata": {
    "collapsed": true
   },
   "outputs": [],
   "source": [
    "nino_cpc = pd.read_table('http://www.cpc.ncep.noaa.gov/data/indices/ersst5.nino.mth.81-10.ascii', sep=r'\\s+')"
   ]
  },
  {
   "cell_type": "code",
   "execution_count": 81,
   "metadata": {},
   "outputs": [
    {
     "data": {
      "text/html": [
       "<div>\n",
       "<style scoped>\n",
       "    .dataframe tbody tr th:only-of-type {\n",
       "        vertical-align: middle;\n",
       "    }\n",
       "\n",
       "    .dataframe tbody tr th {\n",
       "        vertical-align: top;\n",
       "    }\n",
       "\n",
       "    .dataframe thead th {\n",
       "        text-align: right;\n",
       "    }\n",
       "</style>\n",
       "<table border=\"1\" class=\"dataframe\">\n",
       "  <thead>\n",
       "    <tr style=\"text-align: right;\">\n",
       "      <th></th>\n",
       "      <th>YR</th>\n",
       "      <th>MON</th>\n",
       "      <th>NINO1+2</th>\n",
       "      <th>ANOM</th>\n",
       "      <th>NINO3</th>\n",
       "      <th>ANOM.1</th>\n",
       "      <th>NINO4</th>\n",
       "      <th>ANOM.2</th>\n",
       "      <th>NINO3.4</th>\n",
       "      <th>ANOM.3</th>\n",
       "    </tr>\n",
       "  </thead>\n",
       "  <tbody>\n",
       "    <tr>\n",
       "      <th>809</th>\n",
       "      <td>2017</td>\n",
       "      <td>6</td>\n",
       "      <td>22.89</td>\n",
       "      <td>-0.12</td>\n",
       "      <td>26.67</td>\n",
       "      <td>0.17</td>\n",
       "      <td>29.28</td>\n",
       "      <td>0.49</td>\n",
       "      <td>28.05</td>\n",
       "      <td>0.46</td>\n",
       "    </tr>\n",
       "    <tr>\n",
       "      <th>810</th>\n",
       "      <td>2017</td>\n",
       "      <td>7</td>\n",
       "      <td>21.65</td>\n",
       "      <td>-0.28</td>\n",
       "      <td>25.84</td>\n",
       "      <td>0.15</td>\n",
       "      <td>29.15</td>\n",
       "      <td>0.42</td>\n",
       "      <td>27.53</td>\n",
       "      <td>0.35</td>\n",
       "    </tr>\n",
       "    <tr>\n",
       "      <th>811</th>\n",
       "      <td>2017</td>\n",
       "      <td>8</td>\n",
       "      <td>20.68</td>\n",
       "      <td>-0.33</td>\n",
       "      <td>24.86</td>\n",
       "      <td>-0.24</td>\n",
       "      <td>28.86</td>\n",
       "      <td>0.22</td>\n",
       "      <td>26.69</td>\n",
       "      <td>-0.14</td>\n",
       "    </tr>\n",
       "    <tr>\n",
       "      <th>812</th>\n",
       "      <td>2017</td>\n",
       "      <td>9</td>\n",
       "      <td>19.93</td>\n",
       "      <td>-0.80</td>\n",
       "      <td>24.17</td>\n",
       "      <td>-0.76</td>\n",
       "      <td>28.72</td>\n",
       "      <td>0.06</td>\n",
       "      <td>26.28</td>\n",
       "      <td>-0.45</td>\n",
       "    </tr>\n",
       "    <tr>\n",
       "      <th>813</th>\n",
       "      <td>2017</td>\n",
       "      <td>10</td>\n",
       "      <td>20.20</td>\n",
       "      <td>-0.85</td>\n",
       "      <td>24.30</td>\n",
       "      <td>-0.65</td>\n",
       "      <td>28.62</td>\n",
       "      <td>-0.02</td>\n",
       "      <td>26.22</td>\n",
       "      <td>-0.45</td>\n",
       "    </tr>\n",
       "  </tbody>\n",
       "</table>\n",
       "</div>"
      ],
      "text/plain": [
       "       YR  MON  NINO1+2  ANOM  NINO3  ANOM.1  NINO4  ANOM.2  NINO3.4  ANOM.3\n",
       "809  2017    6    22.89 -0.12  26.67    0.17  29.28    0.49    28.05    0.46\n",
       "810  2017    7    21.65 -0.28  25.84    0.15  29.15    0.42    27.53    0.35\n",
       "811  2017    8    20.68 -0.33  24.86   -0.24  28.86    0.22    26.69   -0.14\n",
       "812  2017    9    19.93 -0.80  24.17   -0.76  28.72    0.06    26.28   -0.45\n",
       "813  2017   10    20.20 -0.85  24.30   -0.65  28.62   -0.02    26.22   -0.45"
      ]
     },
     "execution_count": 81,
     "metadata": {},
     "output_type": "execute_result"
    }
   ],
   "source": [
    "nino_cpc.tail()"
   ]
  },
  {
   "cell_type": "code",
   "execution_count": 82,
   "metadata": {
    "collapsed": true
   },
   "outputs": [],
   "source": [
    "nino_cpc = nino_cpc.loc[:,['YR','MON','ANOM.3']]"
   ]
  },
  {
   "cell_type": "code",
   "execution_count": 83,
   "metadata": {
    "collapsed": true
   },
   "outputs": [],
   "source": [
    "nino_cpc.columns = ['year','month','nino34']"
   ]
  },
  {
   "cell_type": "code",
   "execution_count": 84,
   "metadata": {
    "collapsed": true
   },
   "outputs": [],
   "source": [
    "nino_cpc.loc[:,'day'] = 1"
   ]
  },
  {
   "cell_type": "code",
   "execution_count": 85,
   "metadata": {
    "collapsed": true
   },
   "outputs": [],
   "source": [
    "index = pd.to_datetime(nino_cpc.loc[:,['year','month','day']])"
   ]
  },
  {
   "cell_type": "code",
   "execution_count": 86,
   "metadata": {
    "collapsed": true
   },
   "outputs": [],
   "source": [
    "nino_cpc.index = index"
   ]
  },
  {
   "cell_type": "code",
   "execution_count": 87,
   "metadata": {},
   "outputs": [
    {
     "data": {
      "text/html": [
       "<div>\n",
       "<style scoped>\n",
       "    .dataframe tbody tr th:only-of-type {\n",
       "        vertical-align: middle;\n",
       "    }\n",
       "\n",
       "    .dataframe tbody tr th {\n",
       "        vertical-align: top;\n",
       "    }\n",
       "\n",
       "    .dataframe thead th {\n",
       "        text-align: right;\n",
       "    }\n",
       "</style>\n",
       "<table border=\"1\" class=\"dataframe\">\n",
       "  <thead>\n",
       "    <tr style=\"text-align: right;\">\n",
       "      <th></th>\n",
       "      <th>year</th>\n",
       "      <th>month</th>\n",
       "      <th>nino34</th>\n",
       "      <th>day</th>\n",
       "    </tr>\n",
       "  </thead>\n",
       "  <tbody>\n",
       "    <tr>\n",
       "      <th>1950-01-01</th>\n",
       "      <td>1950</td>\n",
       "      <td>1</td>\n",
       "      <td>-2.00</td>\n",
       "      <td>1</td>\n",
       "    </tr>\n",
       "    <tr>\n",
       "      <th>1950-02-01</th>\n",
       "      <td>1950</td>\n",
       "      <td>2</td>\n",
       "      <td>-1.68</td>\n",
       "      <td>1</td>\n",
       "    </tr>\n",
       "    <tr>\n",
       "      <th>1950-03-01</th>\n",
       "      <td>1950</td>\n",
       "      <td>3</td>\n",
       "      <td>-1.37</td>\n",
       "      <td>1</td>\n",
       "    </tr>\n",
       "    <tr>\n",
       "      <th>1950-04-01</th>\n",
       "      <td>1950</td>\n",
       "      <td>4</td>\n",
       "      <td>-1.43</td>\n",
       "      <td>1</td>\n",
       "    </tr>\n",
       "    <tr>\n",
       "      <th>1950-05-01</th>\n",
       "      <td>1950</td>\n",
       "      <td>5</td>\n",
       "      <td>-1.63</td>\n",
       "      <td>1</td>\n",
       "    </tr>\n",
       "  </tbody>\n",
       "</table>\n",
       "</div>"
      ],
      "text/plain": [
       "            year  month  nino34  day\n",
       "1950-01-01  1950      1   -2.00    1\n",
       "1950-02-01  1950      2   -1.68    1\n",
       "1950-03-01  1950      3   -1.37    1\n",
       "1950-04-01  1950      4   -1.43    1\n",
       "1950-05-01  1950      5   -1.63    1"
      ]
     },
     "execution_count": 87,
     "metadata": {},
     "output_type": "execute_result"
    }
   ],
   "source": [
    "nino_cpc.head()"
   ]
  },
  {
   "cell_type": "code",
   "execution_count": 88,
   "metadata": {},
   "outputs": [
    {
     "data": {
      "text/plain": [
       "<matplotlib.axes._subplots.AxesSubplot at 0x11537cc88>"
      ]
     },
     "execution_count": 88,
     "metadata": {},
     "output_type": "execute_result"
    },
    {
     "data": {
      "image/png": "[encoded data removed]",
      "text/plain": [
       "<matplotlib.figure.Figure at 0x1154552b0>"
      ]
     },
     "metadata": {},
     "output_type": "display_data"
    }
   ],
   "source": [
    "nino_cpc.nino34.plot()"
   ]
  },
  {
   "cell_type": "code",
   "execution_count": 89,
   "metadata": {},
   "outputs": [
    {
     "data": {
      "text/plain": [
       "<matplotlib.axes._subplots.AxesSubplot at 0x115b9e208>"
      ]
     },
     "execution_count": 89,
     "metadata": {},
     "output_type": "execute_result"
    },
    {
     "data": {
      "image/png": "[encoded data removed]",
      "text/plain": [
       "<matplotlib.figure.Figure at 0x115b54c18>"
      ]
     },
     "metadata": {},
     "output_type": "display_data"
    }
   ],
   "source": [
    "f, ax = plt.subplots()\n",
    "nino_esrl.plot(ax=ax)\n",
    "nino_cpc.nino34.plot(ax=ax)"
   ]
  },
  {
   "cell_type": "code",
   "execution_count": 90,
   "metadata": {
    "collapsed": true
   },
   "outputs": [],
   "source": [
    "nino_cpc_r3 = nino_cpc.rolling(window=3, min_periods=3).mean()"
   ]
  },
  {
   "cell_type": "code",
   "execution_count": 91,
   "metadata": {},
   "outputs": [
    {
     "data": {
      "text/plain": [
       "<matplotlib.axes._subplots.AxesSubplot at 0x115bc0710>"
      ]
     },
     "execution_count": 91,
     "metadata": {},
     "output_type": "execute_result"
    },
    {
     "data": {
      "image/png": "[encoded data removed]",
      "text/plain": [
       "<matplotlib.figure.Figure at 0x11523a320>"
      ]
     },
     "metadata": {},
     "output_type": "display_data"
    }
   ],
   "source": [
    "f, ax = plt.subplots()\n",
    "nino_esrl.plot(ax=ax)\n",
    "nino_cpc.nino34.plot(ax=ax)"
   ]
  },
  {
   "cell_type": "code",
   "execution_count": 92,
   "metadata": {},
   "outputs": [
    {
     "data": {
      "text/plain": [
       "<matplotlib.axes._subplots.AxesSubplot at 0x115d0bfd0>"
      ]
     },
     "execution_count": 92,
     "metadata": {},
     "output_type": "execute_result"
    },
    {
     "data": {
      "image/png": "[encoded data removed]",
      "text/plain": [
       "<matplotlib.figure.Figure at 0x115e44d68>"
      ]
     },
     "metadata": {},
     "output_type": "display_data"
    }
   ],
   "source": [
    "f, ax = plt.subplots()\n",
    "(nino_esrl + 3).plot(ax=ax)\n",
    "nino_cpc.nino34.plot(ax=ax)"
   ]
  },
  {
   "cell_type": "markdown",
   "metadata": {},
   "source": [
    "## make your own indice from a climate field "
   ]
  },
  {
   "cell_type": "markdown",
   "metadata": {},
   "source": [
    "### download the ERSST V5 data using the [requests](http://docs.python-requests.org/en/master/) library"
   ]
  },
  {
   "cell_type": "code",
   "execution_count": 31,
   "metadata": {
    "collapsed": true
   },
   "outputs": [],
   "source": [
    "base_url = \"https://www1.ncdc.noaa.gov/pub/data/cmb/ersst/v5/netcdf/\""
   ]
  },
  {
   "cell_type": "code",
   "execution_count": 32,
   "metadata": {
    "collapsed": true
   },
   "outputs": [],
   "source": [
    "opath = '../data/SST'"
   ]
  },
  {
   "cell_type": "code",
   "execution_count": 33,
   "metadata": {
    "collapsed": true,
    "run_control": {
     "marked": false
    }
   },
   "outputs": [],
   "source": [
    "# for date in pd.date_range(start='1979-1-1', end='2017-10-1', freq='MS'):\n",
    "#     filename = \"ersst.v5.{:%Y%m}.nc\".format(date)\n",
    "#     r = requests.get(base_url + filename)\n",
    "#     with open('{}/{}'.format(opath, filename),'wb') as f:\n",
    "#         f.write(r.content)\n",
    "#     dset = xr.open_dataset('{}/{}'.format(opath, filename))\n",
    "#     dset = dset.sel(lat=slice(-40, 40), lon=slice(100,300))\n",
    "#     os.remove('{}/{}'.format(opath, filename))\n",
    "#     dset.to_netcdf('{}/{}'.format(opath, filename))\n",
    "#     dset.close()"
   ]
  },
  {
   "cell_type": "code",
   "execution_count": 86,
   "metadata": {
    "collapsed": true
   },
   "outputs": [],
   "source": [
    "from glob import glob"
   ]
  },
  {
   "cell_type": "code",
   "execution_count": 88,
   "metadata": {
    "collapsed": true
   },
   "outputs": [],
   "source": [
    "lfiles = glob('../data/SST/*.nc')"
   ]
  },
  {
   "cell_type": "code",
   "execution_count": 90,
   "metadata": {
    "collapsed": true
   },
   "outputs": [],
   "source": [
    "lfiles.sort()"
   ]
  },
  {
   "cell_type": "code",
   "execution_count": 91,
   "metadata": {},
   "outputs": [
    {
     "data": {
      "text/plain": [
       "['../data/SST/ersst.v5.197901.nc',\n",
       " '../data/SST/ersst.v5.197902.nc',\n",
       " '../data/SST/ersst.v5.197903.nc',\n",
       " '../data/SST/ersst.v5.197904.nc',\n",
       " '../data/SST/ersst.v5.197905.nc',\n",
       " '../data/SST/ersst.v5.197906.nc',\n",
       " '../data/SST/ersst.v5.197907.nc',\n",
       " '../data/SST/ersst.v5.197908.nc',\n",
       " '../data/SST/ersst.v5.197909.nc',\n",
       " '../data/SST/ersst.v5.197910.nc',\n",
       " '../data/SST/ersst.v5.197911.nc',\n",
       " '../data/SST/ersst.v5.197912.nc',\n",
       " '../data/SST/ersst.v5.198001.nc',\n",
       " '../data/SST/ersst.v5.198002.nc',\n",
       " '../data/SST/ersst.v5.198003.nc',\n",
       " '../data/SST/ersst.v5.198004.nc',\n",
       " '../data/SST/ersst.v5.198005.nc',\n",
       " '../data/SST/ersst.v5.198006.nc',\n",
       " '../data/SST/ersst.v5.198007.nc',\n",
       " '../data/SST/ersst.v5.198008.nc',\n",
       " '../data/SST/ersst.v5.198009.nc',\n",
       " '../data/SST/ersst.v5.198010.nc',\n",
       " '../data/SST/ersst.v5.198011.nc',\n",
       " '../data/SST/ersst.v5.198012.nc',\n",
       " '../data/SST/ersst.v5.198101.nc',\n",
       " '../data/SST/ersst.v5.198102.nc',\n",
       " '../data/SST/ersst.v5.198103.nc',\n",
       " '../data/SST/ersst.v5.198104.nc',\n",
       " '../data/SST/ersst.v5.198105.nc',\n",
       " '../data/SST/ersst.v5.198106.nc',\n",
       " '../data/SST/ersst.v5.198107.nc',\n",
       " '../data/SST/ersst.v5.198108.nc',\n",
       " '../data/SST/ersst.v5.198109.nc',\n",
       " '../data/SST/ersst.v5.198110.nc',\n",
       " '../data/SST/ersst.v5.198111.nc',\n",
       " '../data/SST/ersst.v5.198112.nc',\n",
       " '../data/SST/ersst.v5.198201.nc',\n",
       " '../data/SST/ersst.v5.198202.nc',\n",
       " '../data/SST/ersst.v5.198203.nc',\n",
       " '../data/SST/ersst.v5.198204.nc',\n",
       " '../data/SST/ersst.v5.198205.nc',\n",
       " '../data/SST/ersst.v5.198206.nc',\n",
       " '../data/SST/ersst.v5.198207.nc',\n",
       " '../data/SST/ersst.v5.198208.nc',\n",
       " '../data/SST/ersst.v5.198209.nc',\n",
       " '../data/SST/ersst.v5.198210.nc',\n",
       " '../data/SST/ersst.v5.198211.nc',\n",
       " '../data/SST/ersst.v5.198212.nc',\n",
       " '../data/SST/ersst.v5.198301.nc',\n",
       " '../data/SST/ersst.v5.198302.nc',\n",
       " '../data/SST/ersst.v5.198303.nc',\n",
       " '../data/SST/ersst.v5.198304.nc',\n",
       " '../data/SST/ersst.v5.198305.nc',\n",
       " '../data/SST/ersst.v5.198306.nc',\n",
       " '../data/SST/ersst.v5.198307.nc',\n",
       " '../data/SST/ersst.v5.198308.nc',\n",
       " '../data/SST/ersst.v5.198309.nc',\n",
       " '../data/SST/ersst.v5.198310.nc',\n",
       " '../data/SST/ersst.v5.198311.nc',\n",
       " '../data/SST/ersst.v5.198312.nc',\n",
       " '../data/SST/ersst.v5.198401.nc',\n",
       " '../data/SST/ersst.v5.198402.nc',\n",
       " '../data/SST/ersst.v5.198403.nc',\n",
       " '../data/SST/ersst.v5.198404.nc',\n",
       " '../data/SST/ersst.v5.198405.nc',\n",
       " '../data/SST/ersst.v5.198406.nc',\n",
       " '../data/SST/ersst.v5.198407.nc',\n",
       " '../data/SST/ersst.v5.198408.nc',\n",
       " '../data/SST/ersst.v5.198409.nc',\n",
       " '../data/SST/ersst.v5.198410.nc',\n",
       " '../data/SST/ersst.v5.198411.nc',\n",
       " '../data/SST/ersst.v5.198412.nc',\n",
       " '../data/SST/ersst.v5.198501.nc',\n",
       " '../data/SST/ersst.v5.198502.nc',\n",
       " '../data/SST/ersst.v5.198503.nc',\n",
       " '../data/SST/ersst.v5.198504.nc',\n",
       " '../data/SST/ersst.v5.198505.nc',\n",
       " '../data/SST/ersst.v5.198506.nc',\n",
       " '../data/SST/ersst.v5.198507.nc',\n",
       " '../data/SST/ersst.v5.198508.nc',\n",
       " '../data/SST/ersst.v5.198509.nc',\n",
       " '../data/SST/ersst.v5.198510.nc',\n",
       " '../data/SST/ersst.v5.198511.nc',\n",
       " '../data/SST/ersst.v5.198512.nc',\n",
       " '../data/SST/ersst.v5.198601.nc',\n",
       " '../data/SST/ersst.v5.198602.nc',\n",
       " '../data/SST/ersst.v5.198603.nc',\n",
       " '../data/SST/ersst.v5.198604.nc',\n",
       " '../data/SST/ersst.v5.198605.nc',\n",
       " '../data/SST/ersst.v5.198606.nc',\n",
       " '../data/SST/ersst.v5.198607.nc',\n",
       " '../data/SST/ersst.v5.198608.nc',\n",
       " '../data/SST/ersst.v5.198609.nc',\n",
       " '../data/SST/ersst.v5.198610.nc',\n",
       " '../data/SST/ersst.v5.198611.nc',\n",
       " '../data/SST/ersst.v5.198612.nc',\n",
       " '../data/SST/ersst.v5.198701.nc',\n",
       " '../data/SST/ersst.v5.198702.nc',\n",
       " '../data/SST/ersst.v5.198703.nc',\n",
       " '../data/SST/ersst.v5.198704.nc',\n",
       " '../data/SST/ersst.v5.198705.nc',\n",
       " '../data/SST/ersst.v5.198706.nc',\n",
       " '../data/SST/ersst.v5.198707.nc',\n",
       " '../data/SST/ersst.v5.198708.nc',\n",
       " '../data/SST/ersst.v5.198709.nc',\n",
       " '../data/SST/ersst.v5.198710.nc',\n",
       " '../data/SST/ersst.v5.198711.nc',\n",
       " '../data/SST/ersst.v5.198712.nc',\n",
       " '../data/SST/ersst.v5.198801.nc',\n",
       " '../data/SST/ersst.v5.198802.nc',\n",
       " '../data/SST/ersst.v5.198803.nc',\n",
       " '../data/SST/ersst.v5.198804.nc',\n",
       " '../data/SST/ersst.v5.198805.nc',\n",
       " '../data/SST/ersst.v5.198806.nc',\n",
       " '../data/SST/ersst.v5.198807.nc',\n",
       " '../data/SST/ersst.v5.198808.nc',\n",
       " '../data/SST/ersst.v5.198809.nc',\n",
       " '../data/SST/ersst.v5.198810.nc',\n",
       " '../data/SST/ersst.v5.198811.nc',\n",
       " '../data/SST/ersst.v5.198812.nc',\n",
       " '../data/SST/ersst.v5.198901.nc',\n",
       " '../data/SST/ersst.v5.198902.nc',\n",
       " '../data/SST/ersst.v5.198903.nc',\n",
       " '../data/SST/ersst.v5.198904.nc',\n",
       " '../data/SST/ersst.v5.198905.nc',\n",
       " '../data/SST/ersst.v5.198906.nc',\n",
       " '../data/SST/ersst.v5.198907.nc',\n",
       " '../data/SST/ersst.v5.198908.nc',\n",
       " '../data/SST/ersst.v5.198909.nc',\n",
       " '../data/SST/ersst.v5.198910.nc',\n",
       " '../data/SST/ersst.v5.198911.nc',\n",
       " '../data/SST/ersst.v5.198912.nc',\n",
       " '../data/SST/ersst.v5.199001.nc',\n",
       " '../data/SST/ersst.v5.199002.nc',\n",
       " '../data/SST/ersst.v5.199003.nc',\n",
       " '../data/SST/ersst.v5.199004.nc',\n",
       " '../data/SST/ersst.v5.199005.nc',\n",
       " '../data/SST/ersst.v5.199006.nc',\n",
       " '../data/SST/ersst.v5.199007.nc',\n",
       " '../data/SST/ersst.v5.199008.nc',\n",
       " '../data/SST/ersst.v5.199009.nc',\n",
       " '../data/SST/ersst.v5.199010.nc',\n",
       " '../data/SST/ersst.v5.199011.nc',\n",
       " '../data/SST/ersst.v5.199012.nc',\n",
       " '../data/SST/ersst.v5.199101.nc',\n",
       " '../data/SST/ersst.v5.199102.nc',\n",
       " '../data/SST/ersst.v5.199103.nc',\n",
       " '../data/SST/ersst.v5.199104.nc',\n",
       " '../data/SST/ersst.v5.199105.nc',\n",
       " '../data/SST/ersst.v5.199106.nc',\n",
       " '../data/SST/ersst.v5.199107.nc',\n",
       " '../data/SST/ersst.v5.199108.nc',\n",
       " '../data/SST/ersst.v5.199109.nc',\n",
       " '../data/SST/ersst.v5.199110.nc',\n",
       " '../data/SST/ersst.v5.199111.nc',\n",
       " '../data/SST/ersst.v5.199112.nc',\n",
       " '../data/SST/ersst.v5.199201.nc',\n",
       " '../data/SST/ersst.v5.199202.nc',\n",
       " '../data/SST/ersst.v5.199203.nc',\n",
       " '../data/SST/ersst.v5.199204.nc',\n",
       " '../data/SST/ersst.v5.199205.nc',\n",
       " '../data/SST/ersst.v5.199206.nc',\n",
       " '../data/SST/ersst.v5.199207.nc',\n",
       " '../data/SST/ersst.v5.199208.nc',\n",
       " '../data/SST/ersst.v5.199209.nc',\n",
       " '../data/SST/ersst.v5.199210.nc',\n",
       " '../data/SST/ersst.v5.199211.nc',\n",
       " '../data/SST/ersst.v5.199212.nc',\n",
       " '../data/SST/ersst.v5.199301.nc',\n",
       " '../data/SST/ersst.v5.199302.nc',\n",
       " '../data/SST/ersst.v5.199303.nc',\n",
       " '../data/SST/ersst.v5.199304.nc',\n",
       " '../data/SST/ersst.v5.199305.nc',\n",
       " '../data/SST/ersst.v5.199306.nc',\n",
       " '../data/SST/ersst.v5.199307.nc',\n",
       " '../data/SST/ersst.v5.199308.nc',\n",
       " '../data/SST/ersst.v5.199309.nc',\n",
       " '../data/SST/ersst.v5.199310.nc',\n",
       " '../data/SST/ersst.v5.199311.nc',\n",
       " '../data/SST/ersst.v5.199312.nc',\n",
       " '../data/SST/ersst.v5.199401.nc',\n",
       " '../data/SST/ersst.v5.199402.nc',\n",
       " '../data/SST/ersst.v5.199403.nc',\n",
       " '../data/SST/ersst.v5.199404.nc',\n",
       " '../data/SST/ersst.v5.199405.nc',\n",
       " '../data/SST/ersst.v5.199406.nc',\n",
       " '../data/SST/ersst.v5.199407.nc',\n",
       " '../data/SST/ersst.v5.199408.nc',\n",
       " '../data/SST/ersst.v5.199409.nc',\n",
       " '../data/SST/ersst.v5.199410.nc',\n",
       " '../data/SST/ersst.v5.199411.nc',\n",
       " '../data/SST/ersst.v5.199412.nc',\n",
       " '../data/SST/ersst.v5.199501.nc',\n",
       " '../data/SST/ersst.v5.199502.nc',\n",
       " '../data/SST/ersst.v5.199503.nc',\n",
       " '../data/SST/ersst.v5.199504.nc',\n",
       " '../data/SST/ersst.v5.199505.nc',\n",
       " '../data/SST/ersst.v5.199506.nc',\n",
       " '../data/SST/ersst.v5.199507.nc',\n",
       " '../data/SST/ersst.v5.199508.nc',\n",
       " '../data/SST/ersst.v5.199509.nc',\n",
       " '../data/SST/ersst.v5.199510.nc',\n",
       " '../data/SST/ersst.v5.199511.nc',\n",
       " '../data/SST/ersst.v5.199512.nc',\n",
       " '../data/SST/ersst.v5.199601.nc',\n",
       " '../data/SST/ersst.v5.199602.nc',\n",
       " '../data/SST/ersst.v5.199603.nc',\n",
       " '../data/SST/ersst.v5.199604.nc',\n",
       " '../data/SST/ersst.v5.199605.nc',\n",
       " '../data/SST/ersst.v5.199606.nc',\n",
       " '../data/SST/ersst.v5.199607.nc',\n",
       " '../data/SST/ersst.v5.199608.nc',\n",
       " '../data/SST/ersst.v5.199609.nc',\n",
       " '../data/SST/ersst.v5.199610.nc',\n",
       " '../data/SST/ersst.v5.199611.nc',\n",
       " '../data/SST/ersst.v5.199612.nc',\n",
       " '../data/SST/ersst.v5.199701.nc',\n",
       " '../data/SST/ersst.v5.199702.nc',\n",
       " '../data/SST/ersst.v5.199703.nc',\n",
       " '../data/SST/ersst.v5.199704.nc',\n",
       " '../data/SST/ersst.v5.199705.nc',\n",
       " '../data/SST/ersst.v5.199706.nc',\n",
       " '../data/SST/ersst.v5.199707.nc',\n",
       " '../data/SST/ersst.v5.199708.nc',\n",
       " '../data/SST/ersst.v5.199709.nc',\n",
       " '../data/SST/ersst.v5.199710.nc',\n",
       " '../data/SST/ersst.v5.199711.nc',\n",
       " '../data/SST/ersst.v5.199712.nc',\n",
       " '../data/SST/ersst.v5.199801.nc',\n",
       " '../data/SST/ersst.v5.199802.nc',\n",
       " '../data/SST/ersst.v5.199803.nc',\n",
       " '../data/SST/ersst.v5.199804.nc',\n",
       " '../data/SST/ersst.v5.199805.nc',\n",
       " '../data/SST/ersst.v5.199806.nc',\n",
       " '../data/SST/ersst.v5.199807.nc',\n",
       " '../data/SST/ersst.v5.199808.nc',\n",
       " '../data/SST/ersst.v5.199809.nc',\n",
       " '../data/SST/ersst.v5.199810.nc',\n",
       " '../data/SST/ersst.v5.199811.nc',\n",
       " '../data/SST/ersst.v5.199812.nc',\n",
       " '../data/SST/ersst.v5.199901.nc',\n",
       " '../data/SST/ersst.v5.199902.nc',\n",
       " '../data/SST/ersst.v5.199903.nc',\n",
       " '../data/SST/ersst.v5.199904.nc',\n",
       " '../data/SST/ersst.v5.199905.nc',\n",
       " '../data/SST/ersst.v5.199906.nc',\n",
       " '../data/SST/ersst.v5.199907.nc',\n",
       " '../data/SST/ersst.v5.199908.nc',\n",
       " '../data/SST/ersst.v5.199909.nc',\n",
       " '../data/SST/ersst.v5.199910.nc',\n",
       " '../data/SST/ersst.v5.199911.nc',\n",
       " '../data/SST/ersst.v5.199912.nc',\n",
       " '../data/SST/ersst.v5.200001.nc',\n",
       " '../data/SST/ersst.v5.200002.nc',\n",
       " '../data/SST/ersst.v5.200003.nc',\n",
       " '../data/SST/ersst.v5.200004.nc',\n",
       " '../data/SST/ersst.v5.200005.nc',\n",
       " '../data/SST/ersst.v5.200006.nc',\n",
       " '../data/SST/ersst.v5.200007.nc',\n",
       " '../data/SST/ersst.v5.200008.nc',\n",
       " '../data/SST/ersst.v5.200009.nc',\n",
       " '../data/SST/ersst.v5.200010.nc',\n",
       " '../data/SST/ersst.v5.200011.nc',\n",
       " '../data/SST/ersst.v5.200012.nc',\n",
       " '../data/SST/ersst.v5.200101.nc',\n",
       " '../data/SST/ersst.v5.200102.nc',\n",
       " '../data/SST/ersst.v5.200103.nc',\n",
       " '../data/SST/ersst.v5.200104.nc',\n",
       " '../data/SST/ersst.v5.200105.nc',\n",
       " '../data/SST/ersst.v5.200106.nc',\n",
       " '../data/SST/ersst.v5.200107.nc',\n",
       " '../data/SST/ersst.v5.200108.nc',\n",
       " '../data/SST/ersst.v5.200109.nc',\n",
       " '../data/SST/ersst.v5.200110.nc',\n",
       " '../data/SST/ersst.v5.200111.nc',\n",
       " '../data/SST/ersst.v5.200112.nc',\n",
       " '../data/SST/ersst.v5.200201.nc',\n",
       " '../data/SST/ersst.v5.200202.nc',\n",
       " '../data/SST/ersst.v5.200203.nc',\n",
       " '../data/SST/ersst.v5.200204.nc',\n",
       " '../data/SST/ersst.v5.200205.nc',\n",
       " '../data/SST/ersst.v5.200206.nc',\n",
       " '../data/SST/ersst.v5.200207.nc',\n",
       " '../data/SST/ersst.v5.200208.nc',\n",
       " '../data/SST/ersst.v5.200209.nc',\n",
       " '../data/SST/ersst.v5.200210.nc',\n",
       " '../data/SST/ersst.v5.200211.nc',\n",
       " '../data/SST/ersst.v5.200212.nc',\n",
       " '../data/SST/ersst.v5.200301.nc',\n",
       " '../data/SST/ersst.v5.200302.nc',\n",
       " '../data/SST/ersst.v5.200303.nc',\n",
       " '../data/SST/ersst.v5.200304.nc',\n",
       " '../data/SST/ersst.v5.200305.nc',\n",
       " '../data/SST/ersst.v5.200306.nc',\n",
       " '../data/SST/ersst.v5.200307.nc',\n",
       " '../data/SST/ersst.v5.200308.nc',\n",
       " '../data/SST/ersst.v5.200309.nc',\n",
       " '../data/SST/ersst.v5.200310.nc',\n",
       " '../data/SST/ersst.v5.200311.nc',\n",
       " '../data/SST/ersst.v5.200312.nc',\n",
       " '../data/SST/ersst.v5.200401.nc',\n",
       " '../data/SST/ersst.v5.200402.nc',\n",
       " '../data/SST/ersst.v5.200403.nc',\n",
       " '../data/SST/ersst.v5.200404.nc',\n",
       " '../data/SST/ersst.v5.200405.nc',\n",
       " '../data/SST/ersst.v5.200406.nc',\n",
       " '../data/SST/ersst.v5.200407.nc',\n",
       " '../data/SST/ersst.v5.200408.nc',\n",
       " '../data/SST/ersst.v5.200409.nc',\n",
       " '../data/SST/ersst.v5.200410.nc',\n",
       " '../data/SST/ersst.v5.200411.nc',\n",
       " '../data/SST/ersst.v5.200412.nc',\n",
       " '../data/SST/ersst.v5.200501.nc',\n",
       " '../data/SST/ersst.v5.200502.nc',\n",
       " '../data/SST/ersst.v5.200503.nc',\n",
       " '../data/SST/ersst.v5.200504.nc',\n",
       " '../data/SST/ersst.v5.200505.nc',\n",
       " '../data/SST/ersst.v5.200506.nc',\n",
       " '../data/SST/ersst.v5.200507.nc',\n",
       " '../data/SST/ersst.v5.200508.nc',\n",
       " '../data/SST/ersst.v5.200509.nc',\n",
       " '../data/SST/ersst.v5.200510.nc',\n",
       " '../data/SST/ersst.v5.200511.nc',\n",
       " '../data/SST/ersst.v5.200512.nc',\n",
       " '../data/SST/ersst.v5.200601.nc',\n",
       " '../data/SST/ersst.v5.200602.nc',\n",
       " '../data/SST/ersst.v5.200603.nc',\n",
       " '../data/SST/ersst.v5.200604.nc',\n",
       " '../data/SST/ersst.v5.200605.nc',\n",
       " '../data/SST/ersst.v5.200606.nc',\n",
       " '../data/SST/ersst.v5.200607.nc',\n",
       " '../data/SST/ersst.v5.200608.nc',\n",
       " '../data/SST/ersst.v5.200609.nc',\n",
       " '../data/SST/ersst.v5.200610.nc',\n",
       " '../data/SST/ersst.v5.200611.nc',\n",
       " '../data/SST/ersst.v5.200612.nc',\n",
       " '../data/SST/ersst.v5.200701.nc',\n",
       " '../data/SST/ersst.v5.200702.nc',\n",
       " '../data/SST/ersst.v5.200703.nc',\n",
       " '../data/SST/ersst.v5.200704.nc',\n",
       " '../data/SST/ersst.v5.200705.nc',\n",
       " '../data/SST/ersst.v5.200706.nc',\n",
       " '../data/SST/ersst.v5.200707.nc',\n",
       " '../data/SST/ersst.v5.200708.nc',\n",
       " '../data/SST/ersst.v5.200709.nc',\n",
       " '../data/SST/ersst.v5.200710.nc',\n",
       " '../data/SST/ersst.v5.200711.nc',\n",
       " '../data/SST/ersst.v5.200712.nc',\n",
       " '../data/SST/ersst.v5.200801.nc',\n",
       " '../data/SST/ersst.v5.200802.nc',\n",
       " '../data/SST/ersst.v5.200803.nc',\n",
       " '../data/SST/ersst.v5.200804.nc',\n",
       " '../data/SST/ersst.v5.200805.nc',\n",
       " '../data/SST/ersst.v5.200806.nc',\n",
       " '../data/SST/ersst.v5.200807.nc',\n",
       " '../data/SST/ersst.v5.200808.nc',\n",
       " '../data/SST/ersst.v5.200809.nc',\n",
       " '../data/SST/ersst.v5.200810.nc',\n",
       " '../data/SST/ersst.v5.200811.nc',\n",
       " '../data/SST/ersst.v5.200812.nc',\n",
       " '../data/SST/ersst.v5.200901.nc',\n",
       " '../data/SST/ersst.v5.200902.nc',\n",
       " '../data/SST/ersst.v5.200903.nc',\n",
       " '../data/SST/ersst.v5.200904.nc',\n",
       " '../data/SST/ersst.v5.200905.nc',\n",
       " '../data/SST/ersst.v5.200906.nc',\n",
       " '../data/SST/ersst.v5.200907.nc',\n",
       " '../data/SST/ersst.v5.200908.nc',\n",
       " '../data/SST/ersst.v5.200909.nc',\n",
       " '../data/SST/ersst.v5.200910.nc',\n",
       " '../data/SST/ersst.v5.200911.nc',\n",
       " '../data/SST/ersst.v5.200912.nc',\n",
       " '../data/SST/ersst.v5.201001.nc',\n",
       " '../data/SST/ersst.v5.201002.nc',\n",
       " '../data/SST/ersst.v5.201003.nc',\n",
       " '../data/SST/ersst.v5.201004.nc',\n",
       " '../data/SST/ersst.v5.201005.nc',\n",
       " '../data/SST/ersst.v5.201006.nc',\n",
       " '../data/SST/ersst.v5.201007.nc',\n",
       " '../data/SST/ersst.v5.201008.nc',\n",
       " '../data/SST/ersst.v5.201009.nc',\n",
       " '../data/SST/ersst.v5.201010.nc',\n",
       " '../data/SST/ersst.v5.201011.nc',\n",
       " '../data/SST/ersst.v5.201012.nc',\n",
       " '../data/SST/ersst.v5.201101.nc',\n",
       " '../data/SST/ersst.v5.201102.nc',\n",
       " '../data/SST/ersst.v5.201103.nc',\n",
       " '../data/SST/ersst.v5.201104.nc',\n",
       " '../data/SST/ersst.v5.201105.nc',\n",
       " '../data/SST/ersst.v5.201106.nc',\n",
       " '../data/SST/ersst.v5.201107.nc',\n",
       " '../data/SST/ersst.v5.201108.nc',\n",
       " '../data/SST/ersst.v5.201109.nc',\n",
       " '../data/SST/ersst.v5.201110.nc',\n",
       " '../data/SST/ersst.v5.201111.nc',\n",
       " '../data/SST/ersst.v5.201112.nc',\n",
       " '../data/SST/ersst.v5.201201.nc',\n",
       " '../data/SST/ersst.v5.201202.nc',\n",
       " '../data/SST/ersst.v5.201203.nc',\n",
       " '../data/SST/ersst.v5.201204.nc',\n",
       " '../data/SST/ersst.v5.201205.nc',\n",
       " '../data/SST/ersst.v5.201206.nc',\n",
       " '../data/SST/ersst.v5.201207.nc',\n",
       " '../data/SST/ersst.v5.201208.nc',\n",
       " '../data/SST/ersst.v5.201209.nc',\n",
       " '../data/SST/ersst.v5.201210.nc',\n",
       " '../data/SST/ersst.v5.201211.nc',\n",
       " '../data/SST/ersst.v5.201212.nc',\n",
       " '../data/SST/ersst.v5.201301.nc',\n",
       " '../data/SST/ersst.v5.201302.nc',\n",
       " '../data/SST/ersst.v5.201303.nc',\n",
       " '../data/SST/ersst.v5.201304.nc',\n",
       " '../data/SST/ersst.v5.201305.nc',\n",
       " '../data/SST/ersst.v5.201306.nc',\n",
       " '../data/SST/ersst.v5.201307.nc',\n",
       " '../data/SST/ersst.v5.201308.nc',\n",
       " '../data/SST/ersst.v5.201309.nc',\n",
       " '../data/SST/ersst.v5.201310.nc',\n",
       " '../data/SST/ersst.v5.201311.nc',\n",
       " '../data/SST/ersst.v5.201312.nc',\n",
       " '../data/SST/ersst.v5.201401.nc',\n",
       " '../data/SST/ersst.v5.201402.nc',\n",
       " '../data/SST/ersst.v5.201403.nc',\n",
       " '../data/SST/ersst.v5.201404.nc',\n",
       " '../data/SST/ersst.v5.201405.nc',\n",
       " '../data/SST/ersst.v5.201406.nc',\n",
       " '../data/SST/ersst.v5.201407.nc',\n",
       " '../data/SST/ersst.v5.201408.nc',\n",
       " '../data/SST/ersst.v5.201409.nc',\n",
       " '../data/SST/ersst.v5.201410.nc',\n",
       " '../data/SST/ersst.v5.201411.nc',\n",
       " '../data/SST/ersst.v5.201412.nc',\n",
       " '../data/SST/ersst.v5.201501.nc',\n",
       " '../data/SST/ersst.v5.201502.nc',\n",
       " '../data/SST/ersst.v5.201503.nc',\n",
       " '../data/SST/ersst.v5.201504.nc',\n",
       " '../data/SST/ersst.v5.201505.nc',\n",
       " '../data/SST/ersst.v5.201506.nc',\n",
       " '../data/SST/ersst.v5.201507.nc',\n",
       " '../data/SST/ersst.v5.201508.nc',\n",
       " '../data/SST/ersst.v5.201509.nc',\n",
       " '../data/SST/ersst.v5.201510.nc',\n",
       " '../data/SST/ersst.v5.201511.nc',\n",
       " '../data/SST/ersst.v5.201512.nc',\n",
       " '../data/SST/ersst.v5.201601.nc',\n",
       " '../data/SST/ersst.v5.201602.nc',\n",
       " '../data/SST/ersst.v5.201603.nc',\n",
       " '../data/SST/ersst.v5.201604.nc',\n",
       " '../data/SST/ersst.v5.201605.nc',\n",
       " '../data/SST/ersst.v5.201606.nc',\n",
       " '../data/SST/ersst.v5.201607.nc',\n",
       " '../data/SST/ersst.v5.201608.nc',\n",
       " '../data/SST/ersst.v5.201609.nc',\n",
       " '../data/SST/ersst.v5.201610.nc',\n",
       " '../data/SST/ersst.v5.201611.nc',\n",
       " '../data/SST/ersst.v5.201612.nc',\n",
       " '../data/SST/ersst.v5.201701.nc',\n",
       " '../data/SST/ersst.v5.201702.nc',\n",
       " '../data/SST/ersst.v5.201703.nc',\n",
       " '../data/SST/ersst.v5.201704.nc',\n",
       " '../data/SST/ersst.v5.201705.nc',\n",
       " '../data/SST/ersst.v5.201706.nc',\n",
       " '../data/SST/ersst.v5.201707.nc',\n",
       " '../data/SST/ersst.v5.201708.nc',\n",
       " '../data/SST/ersst.v5.201709.nc',\n",
       " '../data/SST/ersst.v5.201710.nc']"
      ]
     },
     "execution_count": 91,
     "metadata": {},
     "output_type": "execute_result"
    }
   ],
   "source": [
    "lfiles"
   ]
  },
  {
   "cell_type": "code",
   "execution_count": 92,
   "metadata": {
    "collapsed": true
   },
   "outputs": [],
   "source": [
    "dset = xr.open_mfdataset(lfiles)"
   ]
  },
  {
   "cell_type": "code",
   "execution_count": 93,
   "metadata": {},
   "outputs": [
    {
     "data": {
      "text/plain": [
       "<xarray.Dataset>\n",
       "Dimensions:  (lat: 41, lev: 1, lon: 101, time: 466)\n",
       "Coordinates:\n",
       "  * lat      (lat) float64 -40.0 -38.0 -36.0 -34.0 -32.0 -30.0 -28.0 -26.0 ...\n",
       "  * lev      (lev) float64 0.0\n",
       "  * lon      (lon) float64 100.0 102.0 104.0 106.0 108.0 110.0 112.0 114.0 ...\n",
       "  * time     (time) datetime64[ns] 1979-01-01 1979-02-01 1979-03-01 ...\n",
       "Data variables:\n",
       "    sst      (time, lev, lat, lon) float64 dask.array<shape=(466, 1, 41, 101), chunksize=(1, 1, 41, 101)>\n",
       "    ssta     (time, lev, lat, lon) float64 dask.array<shape=(466, 1, 41, 101), chunksize=(1, 1, 41, 101)>\n",
       "Attributes:\n",
       "    Conventions:                CF-1.6, ACDD-1.3\n",
       "    metadata_link:              https://doi.org/10.7289/V5T72FNM\n",
       "    id:                         ersst.v5.197901\n",
       "    naming_authority:           gov.noaa.ncei\n",
       "    title:                      NOAA ERSSTv5 (in situ only)\n",
       "    summary:                    ERSST.v5 is developped based on v4 after revi...\n",
       "    institution:                NOAA/NESDIS/NCEI/CCOG\n",
       "    creator_name:               Boyin Huang\n",
       "    creator_email:              boyin.huang@noaa.gov\n",
       "    date_created:               2017-06-30T12:18:00Z\n",
       "    date_modified:              2017-06-30T12:18:00Z\n",
       "    product_version:            Version 5\n",
       "    history:                    Fri Jun 30 12:38:19 2017: ncatted -O -a _Fill...\n",
       "    creator_url:                https://www.ncei.noaa.gov\n",
       "    license:                    No constraints on data access or use\n",
       "    time_coverage_start:        1979-01-01T00:00:00Z\n",
       "    time_coverage_end:          1979-02-01T00:00:00Z\n",
       "    geospatial_lon_min:         -1.0\n",
       "    geospatial_lon_max:         359.0\n",
       "    geospatial_lat_min:         -89.0\n",
       "    geospatial_lat_max:         89.0\n",
       "    geospatial_lat_units:       degrees_north\n",
       "    geospatial_lat_resolution:  2.0\n",
       "    geospatial_lon_units:       degrees_east\n",
       "    geospatial_lon_resolution:  2.0\n",
       "    spatial_resolution:         2.0 degree grid\n",
       "    cdm_data_type:              Grid\n",
       "    processing_level:           NOAA Level 4\n",
       "    standard_name_vocabulary:   CF Standard Name Table (v40, 25 January 2017)\n",
       "    keywords:                   Earth Science > Oceans > Ocean Temperature > ...\n",
       "    keywords_vocabulary:        NASA Global Change Master Directory (GCMD) Sc...\n",
       "    project:                    NOAA Extended Reconstructed Sea Surface Tempe...\n",
       "    platform:                   Ship and Buoy SSTs from ICOADS R3.0 and NCEP GTS\n",
       "    instrument:                 Conventional thermometers\n",
       "    source:                     In situ data: ICOADS R3.0 before 2015, NCEP i...\n",
       "    comment:                    SSTs were observed by conventional thermomete...\n",
       "    references:                 Huang et al, 2017: Extended Reconstructed Sea...\n",
       "    climatology:                Climatology is based on 1971-2000 SST, Xue, Y..."
      ]
     },
     "execution_count": 93,
     "metadata": {},
     "output_type": "execute_result"
    }
   ],
   "source": [
    "dset"
   ]
  },
  {
   "cell_type": "code",
   "execution_count": 94,
   "metadata": {
    "collapsed": true
   },
   "outputs": [],
   "source": [
    "dset = dset.squeeze(drop=True)"
   ]
  },
  {
   "cell_type": "code",
   "execution_count": 95,
   "metadata": {},
   "outputs": [
    {
     "data": {
      "text/plain": [
       "<matplotlib.collections.QuadMesh at 0x32d433c88>"
      ]
     },
     "execution_count": 95,
     "metadata": {},
     "output_type": "execute_result"
    },
    {
     "data": {
      "image/png": "[encoded data removed]",
      "text/plain": [
       "<matplotlib.figure.Figure at 0x3299fe518>"
      ]
     },
     "metadata": {},
     "output_type": "display_data"
    }
   ],
   "source": [
    "f, axes = plt.subplots(ncols=2, figsize=(12,5))\n",
    "dset.sel(time='2017-10-01')['sst'].plot(ax=axes[0])\n",
    "dset.sel(time='2017-10-01')['ssta'].plot(ax=axes[1])"
   ]
  },
  {
   "cell_type": "markdown",
   "metadata": {},
   "source": [
    "### calculate a regional (box) average "
   ]
  },
  {
   "cell_type": "markdown",
   "metadata": {},
   "source": [
    "![](./images/oceanic-indices-map.gif)"
   ]
  },
  {
   "cell_type": "markdown",
   "metadata": {},
   "source": [
    "+ Nino 1 : Latitude 0° to 5° S & Longitude 80° W to 90° W  \n",
    "+ Nino 2 : Latitude 5° S to 10° S & Longitude 80° W to 90° W  \n",
    "+ Nino 3 : Latitude 5°N to 5° S & Longitude 90° W to 150° W  \n",
    "+ Nino 3.4 : Latitude 5° N to 5° S & Longitude 120° W to 170° W  \n",
    "+ Nino 4 : Latitude 5°N to 5° S & Longitude 160° E to 150° W  "
   ]
  },
  {
   "cell_type": "code",
   "execution_count": 96,
   "metadata": {
    "collapsed": true
   },
   "outputs": [],
   "source": [
    "nino34 = {'latS': -5, 'latN': 5, 'lonW': 170, 'lonE': 120}"
   ]
  },
  {
   "cell_type": "code",
   "execution_count": 97,
   "metadata": {
    "collapsed": true
   },
   "outputs": [],
   "source": [
    "nino = dset.sel(lat=slice(nino34['latS'], nino34['latN']), lon=slice(360 - nino34['lonW'], 360 - nino34['lonE']))"
   ]
  },
  {
   "cell_type": "code",
   "execution_count": 98,
   "metadata": {
    "collapsed": true
   },
   "outputs": [],
   "source": [
    "nino_indice = nino.mean('lat').mean('lon')"
   ]
  },
  {
   "cell_type": "code",
   "execution_count": 99,
   "metadata": {},
   "outputs": [
    {
     "data": {
      "text/plain": [
       "<xarray.Dataset>\n",
       "Dimensions:  (time: 466)\n",
       "Coordinates:\n",
       "  * time     (time) datetime64[ns] 1979-01-01 1979-02-01 1979-03-01 ...\n",
       "Data variables:\n",
       "    sst      (time) float64 26.42 26.54 27.28 27.84 27.69 27.43 26.83 26.75 ...\n",
       "    ssta     (time) float64 -0.1812 -0.2488 0.01697 0.146 -0.1237 -0.1282 ..."
      ]
     },
     "execution_count": 99,
     "metadata": {},
     "output_type": "execute_result"
    }
   ],
   "source": [
    "nino_indice.load()"
   ]
  },
  {
   "cell_type": "code",
   "execution_count": 101,
   "metadata": {},
   "outputs": [
    {
     "data": {
      "text/plain": [
       "[<matplotlib.lines.Line2D at 0x330083908>]"
      ]
     },
     "execution_count": 101,
     "metadata": {},
     "output_type": "execute_result"
    },
    {
     "data": {
      "image/png": "[encoded data removed]",
      "text/plain": [
       "<matplotlib.figure.Figure at 0x33006e3c8>"
      ]
     },
     "metadata": {},
     "output_type": "display_data"
    }
   ],
   "source": [
    "nino_indice['ssta'].plot()"
   ]
  },
  {
   "cell_type": "code",
   "execution_count": 100,
   "metadata": {},
   "outputs": [
    {
     "data": {
      "text/plain": [
       "<matplotlib.axes._subplots.AxesSubplot at 0x33002a7f0>"
      ]
     },
     "execution_count": 100,
     "metadata": {},
     "output_type": "execute_result"
    },
    {
     "data": {
      "image/png": "[encoded data removed]",
      "text/plain": [
       "<matplotlib.figure.Figure at 0x330023898>"
      ]
     },
     "metadata": {},
     "output_type": "display_data"
    }
   ],
   "source": [
    "nino_esrl.loc['1979':,:].plot()"
   ]
  },
  {
   "cell_type": "code",
   "execution_count": 102,
   "metadata": {
    "collapsed": true
   },
   "outputs": [],
   "source": [
    "nino_indice_df = nino_indice.to_dataframe()"
   ]
  },
  {
   "cell_type": "code",
   "execution_count": 103,
   "metadata": {},
   "outputs": [
    {
     "data": {
      "text/html": [
       "<div>\n",
       "<style scoped>\n",
       "    .dataframe tbody tr th:only-of-type {\n",
       "        vertical-align: middle;\n",
       "    }\n",
       "\n",
       "    .dataframe tbody tr th {\n",
       "        vertical-align: top;\n",
       "    }\n",
       "\n",
       "    .dataframe thead th {\n",
       "        text-align: right;\n",
       "    }\n",
       "</style>\n",
       "<table border=\"1\" class=\"dataframe\">\n",
       "  <thead>\n",
       "    <tr style=\"text-align: right;\">\n",
       "      <th></th>\n",
       "      <th>sst</th>\n",
       "      <th>ssta</th>\n",
       "    </tr>\n",
       "    <tr>\n",
       "      <th>time</th>\n",
       "      <th></th>\n",
       "      <th></th>\n",
       "    </tr>\n",
       "  </thead>\n",
       "  <tbody>\n",
       "    <tr>\n",
       "      <th>2017-06-01</th>\n",
       "      <td>28.045594</td>\n",
       "      <td>0.483936</td>\n",
       "    </tr>\n",
       "    <tr>\n",
       "      <th>2017-07-01</th>\n",
       "      <td>27.529682</td>\n",
       "      <td>0.379875</td>\n",
       "    </tr>\n",
       "    <tr>\n",
       "      <th>2017-08-01</th>\n",
       "      <td>26.689923</td>\n",
       "      <td>-0.123088</td>\n",
       "    </tr>\n",
       "    <tr>\n",
       "      <th>2017-09-01</th>\n",
       "      <td>26.279665</td>\n",
       "      <td>-0.475981</td>\n",
       "    </tr>\n",
       "    <tr>\n",
       "      <th>2017-10-01</th>\n",
       "      <td>26.223660</td>\n",
       "      <td>-0.471415</td>\n",
       "    </tr>\n",
       "  </tbody>\n",
       "</table>\n",
       "</div>"
      ],
      "text/plain": [
       "                  sst      ssta\n",
       "time                           \n",
       "2017-06-01  28.045594  0.483936\n",
       "2017-07-01  27.529682  0.379875\n",
       "2017-08-01  26.689923 -0.123088\n",
       "2017-09-01  26.279665 -0.475981\n",
       "2017-10-01  26.223660 -0.471415"
      ]
     },
     "execution_count": 103,
     "metadata": {},
     "output_type": "execute_result"
    }
   ],
   "source": [
    "nino_indice_df.tail()"
   ]
  },
  {
   "cell_type": "markdown",
   "metadata": {
    "collapsed": true
   },
   "source": [
    "## Fantastic indices and where to find them "
   ]
  },
  {
   "cell_type": "markdown",
   "metadata": {},
   "source": [
    "### The Southern Oscillation Index (SOI)"
   ]
  },
  {
   "cell_type": "markdown",
   "metadata": {},
   "source": [
    "can be found at the NCDC: \n",
    "    \n",
    "[https://www.ncdc.noaa.gov/teleconnections/enso/indicators/soi/data.csv](https://www.ncdc.noaa.gov/teleconnections/enso/indicators/soi/data.csv)"
   ]
  },
  {
   "cell_type": "code",
   "execution_count": 104,
   "metadata": {
    "collapsed": true
   },
   "outputs": [],
   "source": [
    "url = 'https://www.ncdc.noaa.gov/teleconnections/enso/indicators/soi/data.csv'"
   ]
  },
  {
   "cell_type": "code",
   "execution_count": 105,
   "metadata": {
    "collapsed": true
   },
   "outputs": [],
   "source": [
    "SOI_ncdc = pd.read_table(url, sep=',', skiprows=1)"
   ]
  },
  {
   "cell_type": "code",
   "execution_count": 106,
   "metadata": {
    "collapsed": true
   },
   "outputs": [],
   "source": [
    "SOI_ncdc.loc[:,'Date'] = SOI_ncdc.loc[:,'Date'].apply(str) + '01'"
   ]
  },
  {
   "cell_type": "code",
   "execution_count": 107,
   "metadata": {
    "collapsed": true
   },
   "outputs": [],
   "source": [
    "SOI_ncdc.loc[:,'Date'] = pd.to_datetime(SOI_ncdc.loc[:,'Date'])"
   ]
  },
  {
   "cell_type": "code",
   "execution_count": 108,
   "metadata": {
    "collapsed": true
   },
   "outputs": [],
   "source": [
    "SOI_ncdc.index = SOI_ncdc.loc[:,'Date'] "
   ]
  },
  {
   "cell_type": "code",
   "execution_count": 109,
   "metadata": {
    "collapsed": true
   },
   "outputs": [],
   "source": [
    "SOI_ncdc = SOI_ncdc.drop('Date', axis=1)"
   ]
  },
  {
   "cell_type": "code",
   "execution_count": 110,
   "metadata": {},
   "outputs": [
    {
     "data": {
      "text/plain": [
       "<matplotlib.axes._subplots.AxesSubplot at 0x32ffbe208>"
      ]
     },
     "execution_count": 110,
     "metadata": {},
     "output_type": "execute_result"
    },
    {
     "data": {
      "image/png": "[encoded data removed]",
      "text/plain": [
       "<matplotlib.figure.Figure at 0x32fe85828>"
      ]
     },
     "metadata": {},
     "output_type": "display_data"
    }
   ],
   "source": [
    "SOI_ncdc.plot()"
   ]
  },
  {
   "cell_type": "markdown",
   "metadata": {},
   "source": [
    "#### calculate it yourself using the MSLP in Tahiti and Darwin, made available by the Australian BoM"
   ]
  },
  {
   "cell_type": "code",
   "execution_count": 111,
   "metadata": {
    "collapsed": true
   },
   "outputs": [],
   "source": [
    "def get_BOM_MSLP(station='tahiti'):\n",
    "    \n",
    "    import urllib.request, urllib.error, urllib.parse\n",
    "    from dateutil import parser as dparser\n",
    "    from datetime import datetime, timedelta\n",
    "    import subprocess\n",
    "    \n",
    "    import pandas as pd\n",
    "    \n",
    "    url = \"ftp://ftp.bom.gov.au/anon/home/ncc/www/sco/soi/{}mslp.html\".format(station)\n",
    "    \n",
    "    req = urllib.request.Request(url)\n",
    "\n",
    "    r = urllib.request.urlopen(req)\n",
    "\n",
    "    data = r.read()\n",
    "\n",
    "    data = data.splitlines()\n",
    "    \n",
    "    if station == 'tahiti':\n",
    "        data = data[15:-1]\n",
    "    else:\n",
    "        data = data[14:-1]\n",
    "    \n",
    "    data = [x.decode('utf-8') for x in data]\n",
    "    \n",
    "    data = [x+'\\n' for x in data]    \n",
    "    \n",
    "    with open('./{}_text'.format(station), 'w') as fout:\n",
    "        fout.writelines(data)\n",
    "\n",
    "    data = pd.read_table('./{}_text'.format(station),sep='\\s+', engine='python', na_values='*', index_col=['Year'])\n",
    "    \n",
    "    subprocess.Popen([\"rm {}*\".format(station)], shell=True, stdout=True).communicate()\n",
    "    \n",
    "    return(data)"
   ]
  },
  {
   "cell_type": "code",
   "execution_count": 112,
   "metadata": {
    "collapsed": true
   },
   "outputs": [],
   "source": [
    "tahitidf = get_BOM_MSLP(station='tahiti')"
   ]
  },
  {
   "cell_type": "code",
   "execution_count": 113,
   "metadata": {},
   "outputs": [
    {
     "data": {
      "text/html": [
       "<div>\n",
       "<style scoped>\n",
       "    .dataframe tbody tr th:only-of-type {\n",
       "        vertical-align: middle;\n",
       "    }\n",
       "\n",
       "    .dataframe tbody tr th {\n",
       "        vertical-align: top;\n",
       "    }\n",
       "\n",
       "    .dataframe thead th {\n",
       "        text-align: right;\n",
       "    }\n",
       "</style>\n",
       "<table border=\"1\" class=\"dataframe\">\n",
       "  <thead>\n",
       "    <tr style=\"text-align: right;\">\n",
       "      <th></th>\n",
       "      <th>Jan</th>\n",
       "      <th>Feb</th>\n",
       "      <th>Mar</th>\n",
       "      <th>Apr</th>\n",
       "      <th>May</th>\n",
       "      <th>Jun</th>\n",
       "      <th>Jul</th>\n",
       "      <th>Aug</th>\n",
       "      <th>Sep</th>\n",
       "      <th>Oct</th>\n",
       "      <th>Nov</th>\n",
       "      <th>Dec</th>\n",
       "    </tr>\n",
       "    <tr>\n",
       "      <th>Year</th>\n",
       "      <th></th>\n",
       "      <th></th>\n",
       "      <th></th>\n",
       "      <th></th>\n",
       "      <th></th>\n",
       "      <th></th>\n",
       "      <th></th>\n",
       "      <th></th>\n",
       "      <th></th>\n",
       "      <th></th>\n",
       "      <th></th>\n",
       "      <th></th>\n",
       "    </tr>\n",
       "  </thead>\n",
       "  <tbody>\n",
       "    <tr>\n",
       "      <th>2013</th>\n",
       "      <td>1010.0</td>\n",
       "      <td>1011.0</td>\n",
       "      <td>1013.1</td>\n",
       "      <td>1012.1</td>\n",
       "      <td>1013.5</td>\n",
       "      <td>1014.1</td>\n",
       "      <td>1014.7</td>\n",
       "      <td>1014.7</td>\n",
       "      <td>1014.6</td>\n",
       "      <td>1013.3</td>\n",
       "      <td>1012.0</td>\n",
       "      <td>1011.3</td>\n",
       "    </tr>\n",
       "    <tr>\n",
       "      <th>2014</th>\n",
       "      <td>1012.0</td>\n",
       "      <td>1010.3</td>\n",
       "      <td>1010.6</td>\n",
       "      <td>1012.3</td>\n",
       "      <td>1013.9</td>\n",
       "      <td>1013.5</td>\n",
       "      <td>1014.4</td>\n",
       "      <td>1014.4</td>\n",
       "      <td>1014.2</td>\n",
       "      <td>1013.2</td>\n",
       "      <td>1011.3</td>\n",
       "      <td>1009.9</td>\n",
       "    </tr>\n",
       "    <tr>\n",
       "      <th>2015</th>\n",
       "      <td>1009.3</td>\n",
       "      <td>1012.5</td>\n",
       "      <td>1010.8</td>\n",
       "      <td>1012.4</td>\n",
       "      <td>1013.0</td>\n",
       "      <td>1013.0</td>\n",
       "      <td>1013.7</td>\n",
       "      <td>1013.4</td>\n",
       "      <td>1013.3</td>\n",
       "      <td>1013.4</td>\n",
       "      <td>1011.6</td>\n",
       "      <td>1009.4</td>\n",
       "    </tr>\n",
       "    <tr>\n",
       "      <th>2016</th>\n",
       "      <td>1010.6</td>\n",
       "      <td>1009.1</td>\n",
       "      <td>1012.3</td>\n",
       "      <td>1010.5</td>\n",
       "      <td>1012.9</td>\n",
       "      <td>1014.1</td>\n",
       "      <td>1014.7</td>\n",
       "      <td>1014.9</td>\n",
       "      <td>1015.6</td>\n",
       "      <td>1012.6</td>\n",
       "      <td>1011.6</td>\n",
       "      <td>1010.7</td>\n",
       "    </tr>\n",
       "    <tr>\n",
       "      <th>2017</th>\n",
       "      <td>1010.7</td>\n",
       "      <td>1011.2</td>\n",
       "      <td>1012.3</td>\n",
       "      <td>1011.3</td>\n",
       "      <td>1013.4</td>\n",
       "      <td>1013.4</td>\n",
       "      <td>1015.4</td>\n",
       "      <td>1015.2</td>\n",
       "      <td>1015.8</td>\n",
       "      <td>1013.8</td>\n",
       "      <td>NaN</td>\n",
       "      <td>NaN</td>\n",
       "    </tr>\n",
       "  </tbody>\n",
       "</table>\n",
       "</div>"
      ],
      "text/plain": [
       "         Jan     Feb     Mar     Apr     May     Jun     Jul     Aug     Sep  \\\n",
       "Year                                                                           \n",
       "2013  1010.0  1011.0  1013.1  1012.1  1013.5  1014.1  1014.7  1014.7  1014.6   \n",
       "2014  1012.0  1010.3  1010.6  1012.3  1013.9  1013.5  1014.4  1014.4  1014.2   \n",
       "2015  1009.3  1012.5  1010.8  1012.4  1013.0  1013.0  1013.7  1013.4  1013.3   \n",
       "2016  1010.6  1009.1  1012.3  1010.5  1012.9  1014.1  1014.7  1014.9  1015.6   \n",
       "2017  1010.7  1011.2  1012.3  1011.3  1013.4  1013.4  1015.4  1015.2  1015.8   \n",
       "\n",
       "         Oct     Nov     Dec  \n",
       "Year                          \n",
       "2013  1013.3  1012.0  1011.3  \n",
       "2014  1013.2  1011.3  1009.9  \n",
       "2015  1013.4  1011.6  1009.4  \n",
       "2016  1012.6  1011.6  1010.7  \n",
       "2017  1013.8     NaN     NaN  "
      ]
     },
     "execution_count": 113,
     "metadata": {},
     "output_type": "execute_result"
    }
   ],
   "source": [
    "tahitidf.tail()"
   ]
  },
  {
   "cell_type": "code",
   "execution_count": 114,
   "metadata": {
    "collapsed": true
   },
   "outputs": [],
   "source": [
    "darwindf = get_BOM_MSLP(station='darwin')"
   ]
  },
  {
   "cell_type": "code",
   "execution_count": 115,
   "metadata": {},
   "outputs": [
    {
     "data": {
      "text/html": [
       "<div>\n",
       "<style scoped>\n",
       "    .dataframe tbody tr th:only-of-type {\n",
       "        vertical-align: middle;\n",
       "    }\n",
       "\n",
       "    .dataframe tbody tr th {\n",
       "        vertical-align: top;\n",
       "    }\n",
       "\n",
       "    .dataframe thead th {\n",
       "        text-align: right;\n",
       "    }\n",
       "</style>\n",
       "<table border=\"1\" class=\"dataframe\">\n",
       "  <thead>\n",
       "    <tr style=\"text-align: right;\">\n",
       "      <th></th>\n",
       "      <th>Jan</th>\n",
       "      <th>Feb</th>\n",
       "      <th>Mar</th>\n",
       "      <th>Apr</th>\n",
       "      <th>May</th>\n",
       "      <th>Jun</th>\n",
       "      <th>Jul</th>\n",
       "      <th>Aug</th>\n",
       "      <th>Sep</th>\n",
       "      <th>Oct</th>\n",
       "      <th>Nov</th>\n",
       "      <th>Dec</th>\n",
       "    </tr>\n",
       "    <tr>\n",
       "      <th>Year</th>\n",
       "      <th></th>\n",
       "      <th></th>\n",
       "      <th></th>\n",
       "      <th></th>\n",
       "      <th></th>\n",
       "      <th></th>\n",
       "      <th></th>\n",
       "      <th></th>\n",
       "      <th></th>\n",
       "      <th></th>\n",
       "      <th></th>\n",
       "      <th></th>\n",
       "    </tr>\n",
       "  </thead>\n",
       "  <tbody>\n",
       "    <tr>\n",
       "      <th>2013</th>\n",
       "      <td>1005.8</td>\n",
       "      <td>1007.2</td>\n",
       "      <td>1007.2</td>\n",
       "      <td>1009.7</td>\n",
       "      <td>1010.8</td>\n",
       "      <td>1011.2</td>\n",
       "      <td>1012.5</td>\n",
       "      <td>1013.1</td>\n",
       "      <td>1011.6</td>\n",
       "      <td>1010.7</td>\n",
       "      <td>1007.7</td>\n",
       "      <td>1007.7</td>\n",
       "    </tr>\n",
       "    <tr>\n",
       "      <th>2014</th>\n",
       "      <td>1005.0</td>\n",
       "      <td>1006.0</td>\n",
       "      <td>1009.1</td>\n",
       "      <td>1008.9</td>\n",
       "      <td>1011.7</td>\n",
       "      <td>1012.5</td>\n",
       "      <td>1013.9</td>\n",
       "      <td>1014.5</td>\n",
       "      <td>1013.1</td>\n",
       "      <td>1011.6</td>\n",
       "      <td>1009.9</td>\n",
       "      <td>1007.5</td>\n",
       "    </tr>\n",
       "    <tr>\n",
       "      <th>2015</th>\n",
       "      <td>1006.5</td>\n",
       "      <td>1007.8</td>\n",
       "      <td>1008.9</td>\n",
       "      <td>1010.5</td>\n",
       "      <td>1013.1</td>\n",
       "      <td>1013.3</td>\n",
       "      <td>1015.0</td>\n",
       "      <td>1014.8</td>\n",
       "      <td>1013.9</td>\n",
       "      <td>1013.8</td>\n",
       "      <td>1009.5</td>\n",
       "      <td>1007.7</td>\n",
       "    </tr>\n",
       "    <tr>\n",
       "      <th>2016</th>\n",
       "      <td>1010.3</td>\n",
       "      <td>1008.7</td>\n",
       "      <td>1009.2</td>\n",
       "      <td>1010.8</td>\n",
       "      <td>1010.9</td>\n",
       "      <td>1012.2</td>\n",
       "      <td>1013.1</td>\n",
       "      <td>1012.4</td>\n",
       "      <td>1011.0</td>\n",
       "      <td>1010.4</td>\n",
       "      <td>1008.8</td>\n",
       "      <td>1006.7</td>\n",
       "    </tr>\n",
       "    <tr>\n",
       "      <th>2017</th>\n",
       "      <td>1006.0</td>\n",
       "      <td>1007.1</td>\n",
       "      <td>1007.4</td>\n",
       "      <td>1009.7</td>\n",
       "      <td>1011.7</td>\n",
       "      <td>1013.5</td>\n",
       "      <td>1013.2</td>\n",
       "      <td>1013.0</td>\n",
       "      <td>1012.3</td>\n",
       "      <td>1009.4</td>\n",
       "      <td>NaN</td>\n",
       "      <td>NaN</td>\n",
       "    </tr>\n",
       "  </tbody>\n",
       "</table>\n",
       "</div>"
      ],
      "text/plain": [
       "         Jan     Feb     Mar     Apr     May     Jun     Jul     Aug     Sep  \\\n",
       "Year                                                                           \n",
       "2013  1005.8  1007.2  1007.2  1009.7  1010.8  1011.2  1012.5  1013.1  1011.6   \n",
       "2014  1005.0  1006.0  1009.1  1008.9  1011.7  1012.5  1013.9  1014.5  1013.1   \n",
       "2015  1006.5  1007.8  1008.9  1010.5  1013.1  1013.3  1015.0  1014.8  1013.9   \n",
       "2016  1010.3  1008.7  1009.2  1010.8  1010.9  1012.2  1013.1  1012.4  1011.0   \n",
       "2017  1006.0  1007.1  1007.4  1009.7  1011.7  1013.5  1013.2  1013.0  1012.3   \n",
       "\n",
       "         Oct     Nov     Dec  \n",
       "Year                          \n",
       "2013  1010.7  1007.7  1007.7  \n",
       "2014  1011.6  1009.9  1007.5  \n",
       "2015  1013.8  1009.5  1007.7  \n",
       "2016  1010.4  1008.8  1006.7  \n",
       "2017  1009.4     NaN     NaN  "
      ]
     },
     "execution_count": 115,
     "metadata": {},
     "output_type": "execute_result"
    }
   ],
   "source": [
    "darwindf.tail()"
   ]
  },
  {
   "cell_type": "markdown",
   "metadata": {},
   "source": [
    "### The Southern Annular Mode "
   ]
  },
  {
   "cell_type": "markdown",
   "metadata": {},
   "source": [
    "##### There are numerous versions of the SAM (Southern Annular Mode) index, a paper recently gave a comparison of the various definitions and implementations existing out there, see \n",
    "\n",
    "Ho, M., Kiem, A. S., and Verdon-Kidd, D. C.: The Southern Annular Mode: a comparison of indices, Hydrol. Earth Syst. Sci., 16, 967-982, https://doi.org/10.5194/hess-16-967-2012, 2012. available at the following URL: \n",
    "            \n",
    "            \n",
    "[https://www.hydrol-earth-syst-sci.net/16/967/2012/](https://www.hydrol-earth-syst-sci.net/16/967/2012/)\n",
    "\n",
    "In a nutshell, the SAM can be derived either by calculating the difference between zonal mean MSLP (or geopotential) at 65S and 40S ([the Marshall SAM index](https://climatedataguide.ucar.edu/climate-data/marshall-southern-annular-mode-sam-index-station-based) is calculated that way) or by applying an EOF (PCA) decomposition of the pressure field south of 20S (usually in a reanalysis product, as EOF doesn't deal very well with missing values), this is the way the [CPC SAM index](http://www.cpc.ncep.noaa.gov/products/precip/CWlink/daily_ao_index/aao/aao.shtml) is calculated. "
   ]
  },
  {
   "cell_type": "markdown",
   "metadata": {},
   "source": [
    "here we'll see how to read the [SAM index calculated from the 20CRc reanalysis project](https://www.esrl.noaa.gov/psd/data/20thC_Rean/timeseries/monthly/SAM/)"
   ]
  },
  {
   "cell_type": "code",
   "execution_count": 116,
   "metadata": {
    "collapsed": true
   },
   "outputs": [],
   "source": [
    "url = 'https://www.esrl.noaa.gov/psd/data/20thC_Rean/timeseries/monthly/SAM/sam.20crv2c.long.data'"
   ]
  },
  {
   "cell_type": "code",
   "execution_count": 117,
   "metadata": {
    "collapsed": true
   },
   "outputs": [],
   "source": [
    "SAM_20CR = pd.read_table(url, skiprows=1, skipfooter=9, engine='python', sep=r'\\s+', header=None)"
   ]
  },
  {
   "cell_type": "code",
   "execution_count": 118,
   "metadata": {},
   "outputs": [
    {
     "data": {
      "text/html": [
       "<div>\n",
       "<style scoped>\n",
       "    .dataframe tbody tr th:only-of-type {\n",
       "        vertical-align: middle;\n",
       "    }\n",
       "\n",
       "    .dataframe tbody tr th {\n",
       "        vertical-align: top;\n",
       "    }\n",
       "\n",
       "    .dataframe thead th {\n",
       "        text-align: right;\n",
       "    }\n",
       "</style>\n",
       "<table border=\"1\" class=\"dataframe\">\n",
       "  <thead>\n",
       "    <tr style=\"text-align: right;\">\n",
       "      <th></th>\n",
       "      <th>0</th>\n",
       "      <th>1</th>\n",
       "      <th>2</th>\n",
       "      <th>3</th>\n",
       "      <th>4</th>\n",
       "      <th>5</th>\n",
       "      <th>6</th>\n",
       "      <th>7</th>\n",
       "      <th>8</th>\n",
       "      <th>9</th>\n",
       "      <th>10</th>\n",
       "      <th>11</th>\n",
       "      <th>12</th>\n",
       "    </tr>\n",
       "  </thead>\n",
       "  <tbody>\n",
       "    <tr>\n",
       "      <th>0</th>\n",
       "      <td>1851</td>\n",
       "      <td>-0.488</td>\n",
       "      <td>0.117</td>\n",
       "      <td>-0.315</td>\n",
       "      <td>-0.499</td>\n",
       "      <td>-0.473</td>\n",
       "      <td>-1.137</td>\n",
       "      <td>-2.096</td>\n",
       "      <td>-2.040</td>\n",
       "      <td>-0.190</td>\n",
       "      <td>0.628</td>\n",
       "      <td>0.334</td>\n",
       "      <td>0.341</td>\n",
       "    </tr>\n",
       "    <tr>\n",
       "      <th>1</th>\n",
       "      <td>1852</td>\n",
       "      <td>-1.133</td>\n",
       "      <td>-3.454</td>\n",
       "      <td>-2.110</td>\n",
       "      <td>-2.384</td>\n",
       "      <td>-1.467</td>\n",
       "      <td>-0.192</td>\n",
       "      <td>-2.143</td>\n",
       "      <td>-4.139</td>\n",
       "      <td>-1.072</td>\n",
       "      <td>-1.547</td>\n",
       "      <td>-0.778</td>\n",
       "      <td>-1.175</td>\n",
       "    </tr>\n",
       "    <tr>\n",
       "      <th>2</th>\n",
       "      <td>1853</td>\n",
       "      <td>-1.693</td>\n",
       "      <td>-3.406</td>\n",
       "      <td>-0.962</td>\n",
       "      <td>-2.549</td>\n",
       "      <td>-0.160</td>\n",
       "      <td>-0.656</td>\n",
       "      <td>-2.805</td>\n",
       "      <td>-1.065</td>\n",
       "      <td>-1.841</td>\n",
       "      <td>-2.974</td>\n",
       "      <td>-1.323</td>\n",
       "      <td>-1.354</td>\n",
       "    </tr>\n",
       "    <tr>\n",
       "      <th>3</th>\n",
       "      <td>1854</td>\n",
       "      <td>-1.684</td>\n",
       "      <td>-3.104</td>\n",
       "      <td>-1.714</td>\n",
       "      <td>-3.052</td>\n",
       "      <td>-1.372</td>\n",
       "      <td>-1.200</td>\n",
       "      <td>-2.399</td>\n",
       "      <td>-2.934</td>\n",
       "      <td>-2.857</td>\n",
       "      <td>-2.609</td>\n",
       "      <td>-0.401</td>\n",
       "      <td>-0.793</td>\n",
       "    </tr>\n",
       "    <tr>\n",
       "      <th>4</th>\n",
       "      <td>1855</td>\n",
       "      <td>-2.524</td>\n",
       "      <td>-2.811</td>\n",
       "      <td>-2.777</td>\n",
       "      <td>-0.630</td>\n",
       "      <td>-0.924</td>\n",
       "      <td>-1.718</td>\n",
       "      <td>-2.879</td>\n",
       "      <td>-3.717</td>\n",
       "      <td>-1.253</td>\n",
       "      <td>-0.670</td>\n",
       "      <td>-0.523</td>\n",
       "      <td>-1.453</td>\n",
       "    </tr>\n",
       "  </tbody>\n",
       "</table>\n",
       "</div>"
      ],
      "text/plain": [
       "     0      1      2      3      4      5      6      7      8      9      10  \\\n",
       "0  1851 -0.488  0.117 -0.315 -0.499 -0.473 -1.137 -2.096 -2.040 -0.190  0.628   \n",
       "1  1852 -1.133 -3.454 -2.110 -2.384 -1.467 -0.192 -2.143 -4.139 -1.072 -1.547   \n",
       "2  1853 -1.693 -3.406 -0.962 -2.549 -0.160 -0.656 -2.805 -1.065 -1.841 -2.974   \n",
       "3  1854 -1.684 -3.104 -1.714 -3.052 -1.372 -1.200 -2.399 -2.934 -2.857 -2.609   \n",
       "4  1855 -2.524 -2.811 -2.777 -0.630 -0.924 -1.718 -2.879 -3.717 -1.253 -0.670   \n",
       "\n",
       "      11     12  \n",
       "0  0.334  0.341  \n",
       "1 -0.778 -1.175  \n",
       "2 -1.323 -1.354  \n",
       "3 -0.401 -0.793  \n",
       "4 -0.523 -1.453  "
      ]
     },
     "execution_count": 118,
     "metadata": {},
     "output_type": "execute_result"
    }
   ],
   "source": [
    "SAM_20CR.head()"
   ]
  },
  {
   "cell_type": "code",
   "execution_count": 119,
   "metadata": {},
   "outputs": [
    {
     "data": {
      "text/html": [
       "<div>\n",
       "<style scoped>\n",
       "    .dataframe tbody tr th:only-of-type {\n",
       "        vertical-align: middle;\n",
       "    }\n",
       "\n",
       "    .dataframe tbody tr th {\n",
       "        vertical-align: top;\n",
       "    }\n",
       "\n",
       "    .dataframe thead th {\n",
       "        text-align: right;\n",
       "    }\n",
       "</style>\n",
       "<table border=\"1\" class=\"dataframe\">\n",
       "  <thead>\n",
       "    <tr style=\"text-align: right;\">\n",
       "      <th></th>\n",
       "      <th>0</th>\n",
       "      <th>1</th>\n",
       "      <th>2</th>\n",
       "      <th>3</th>\n",
       "      <th>4</th>\n",
       "      <th>5</th>\n",
       "      <th>6</th>\n",
       "      <th>7</th>\n",
       "      <th>8</th>\n",
       "      <th>9</th>\n",
       "      <th>10</th>\n",
       "      <th>11</th>\n",
       "      <th>12</th>\n",
       "    </tr>\n",
       "  </thead>\n",
       "  <tbody>\n",
       "    <tr>\n",
       "      <th>156</th>\n",
       "      <td>2007</td>\n",
       "      <td>-0.491</td>\n",
       "      <td>0.721</td>\n",
       "      <td>-0.943</td>\n",
       "      <td>-1.513</td>\n",
       "      <td>0.149</td>\n",
       "      <td>-0.444</td>\n",
       "      <td>-3.225</td>\n",
       "      <td>0.828</td>\n",
       "      <td>-0.205</td>\n",
       "      <td>-0.179</td>\n",
       "      <td>-0.270</td>\n",
       "      <td>2.408</td>\n",
       "    </tr>\n",
       "    <tr>\n",
       "      <th>157</th>\n",
       "      <td>2008</td>\n",
       "      <td>1.992</td>\n",
       "      <td>0.945</td>\n",
       "      <td>2.045</td>\n",
       "      <td>-1.709</td>\n",
       "      <td>-1.545</td>\n",
       "      <td>3.444</td>\n",
       "      <td>-0.618</td>\n",
       "      <td>0.268</td>\n",
       "      <td>2.008</td>\n",
       "      <td>2.533</td>\n",
       "      <td>2.071</td>\n",
       "      <td>1.018</td>\n",
       "    </tr>\n",
       "    <tr>\n",
       "      <th>158</th>\n",
       "      <td>2009</td>\n",
       "      <td>1.129</td>\n",
       "      <td>0.709</td>\n",
       "      <td>0.471</td>\n",
       "      <td>-0.669</td>\n",
       "      <td>-0.636</td>\n",
       "      <td>-0.422</td>\n",
       "      <td>-1.819</td>\n",
       "      <td>-2.467</td>\n",
       "      <td>0.360</td>\n",
       "      <td>0.844</td>\n",
       "      <td>-2.600</td>\n",
       "      <td>0.904</td>\n",
       "    </tr>\n",
       "    <tr>\n",
       "      <th>159</th>\n",
       "      <td>2010</td>\n",
       "      <td>-0.847</td>\n",
       "      <td>-1.906</td>\n",
       "      <td>1.164</td>\n",
       "      <td>1.352</td>\n",
       "      <td>2.133</td>\n",
       "      <td>4.136</td>\n",
       "      <td>3.924</td>\n",
       "      <td>2.532</td>\n",
       "      <td>2.091</td>\n",
       "      <td>2.315</td>\n",
       "      <td>2.254</td>\n",
       "      <td>0.921</td>\n",
       "    </tr>\n",
       "    <tr>\n",
       "      <th>160</th>\n",
       "      <td>2011</td>\n",
       "      <td>-0.564</td>\n",
       "      <td>2.026</td>\n",
       "      <td>-0.122</td>\n",
       "      <td>-0.165</td>\n",
       "      <td>2.705</td>\n",
       "      <td>0.139</td>\n",
       "      <td>-0.934</td>\n",
       "      <td>-1.616</td>\n",
       "      <td>-2.619</td>\n",
       "      <td>0.953</td>\n",
       "      <td>-1.061</td>\n",
       "      <td>2.421</td>\n",
       "    </tr>\n",
       "  </tbody>\n",
       "</table>\n",
       "</div>"
      ],
      "text/plain": [
       "       0      1      2      3      4      5      6      7      8      9   \\\n",
       "156  2007 -0.491  0.721 -0.943 -1.513  0.149 -0.444 -3.225  0.828 -0.205   \n",
       "157  2008  1.992  0.945  2.045 -1.709 -1.545  3.444 -0.618  0.268  2.008   \n",
       "158  2009  1.129  0.709  0.471 -0.669 -0.636 -0.422 -1.819 -2.467  0.360   \n",
       "159  2010 -0.847 -1.906  1.164  1.352  2.133  4.136  3.924  2.532  2.091   \n",
       "160  2011 -0.564  2.026 -0.122 -0.165  2.705  0.139 -0.934 -1.616 -2.619   \n",
       "\n",
       "        10     11     12  \n",
       "156 -0.179 -0.270  2.408  \n",
       "157  2.533  2.071  1.018  \n",
       "158  0.844 -2.600  0.904  \n",
       "159  2.315  2.254  0.921  \n",
       "160  0.953 -1.061  2.421  "
      ]
     },
     "execution_count": 119,
     "metadata": {},
     "output_type": "execute_result"
    }
   ],
   "source": [
    "SAM_20CR.tail()"
   ]
  },
  {
   "cell_type": "code",
   "execution_count": 120,
   "metadata": {
    "collapsed": true
   },
   "outputs": [],
   "source": [
    "SAM_20CR = SAM_20CR.iloc[:,1:].stack().to_frame()"
   ]
  },
  {
   "cell_type": "code",
   "execution_count": 121,
   "metadata": {
    "collapsed": true
   },
   "outputs": [],
   "source": [
    "SAM_20CR.columns = ['SAM']"
   ]
  },
  {
   "cell_type": "code",
   "execution_count": 122,
   "metadata": {},
   "outputs": [
    {
     "data": {
      "text/plain": [
       "1932"
      ]
     },
     "execution_count": 122,
     "metadata": {},
     "output_type": "execute_result"
    }
   ],
   "source": [
    "len(SAM_20CR)"
   ]
  },
  {
   "cell_type": "code",
   "execution_count": 123,
   "metadata": {},
   "outputs": [
    {
     "data": {
      "text/html": [
       "<div>\n",
       "<style scoped>\n",
       "    .dataframe tbody tr th:only-of-type {\n",
       "        vertical-align: middle;\n",
       "    }\n",
       "\n",
       "    .dataframe tbody tr th {\n",
       "        vertical-align: top;\n",
       "    }\n",
       "\n",
       "    .dataframe thead th {\n",
       "        text-align: right;\n",
       "    }\n",
       "</style>\n",
       "<table border=\"1\" class=\"dataframe\">\n",
       "  <thead>\n",
       "    <tr style=\"text-align: right;\">\n",
       "      <th></th>\n",
       "      <th></th>\n",
       "      <th>SAM</th>\n",
       "    </tr>\n",
       "  </thead>\n",
       "  <tbody>\n",
       "    <tr>\n",
       "      <th rowspan=\"5\" valign=\"top\">160</th>\n",
       "      <th>8</th>\n",
       "      <td>-1.616</td>\n",
       "    </tr>\n",
       "    <tr>\n",
       "      <th>9</th>\n",
       "      <td>-2.619</td>\n",
       "    </tr>\n",
       "    <tr>\n",
       "      <th>10</th>\n",
       "      <td>0.953</td>\n",
       "    </tr>\n",
       "    <tr>\n",
       "      <th>11</th>\n",
       "      <td>-1.061</td>\n",
       "    </tr>\n",
       "    <tr>\n",
       "      <th>12</th>\n",
       "      <td>2.421</td>\n",
       "    </tr>\n",
       "  </tbody>\n",
       "</table>\n",
       "</div>"
      ],
      "text/plain": [
       "          SAM\n",
       "160 8  -1.616\n",
       "    9  -2.619\n",
       "    10  0.953\n",
       "    11 -1.061\n",
       "    12  2.421"
      ]
     },
     "execution_count": 123,
     "metadata": {},
     "output_type": "execute_result"
    }
   ],
   "source": [
    "SAM_20CR.tail()"
   ]
  },
  {
   "cell_type": "code",
   "execution_count": 124,
   "metadata": {
    "collapsed": true
   },
   "outputs": [],
   "source": [
    "SAM_20CR.index = pd.date_range(start='1851-1-1',end='2011-12-31', freq='MS')"
   ]
  },
  {
   "cell_type": "code",
   "execution_count": 125,
   "metadata": {},
   "outputs": [
    {
     "data": {
      "text/html": [
       "<div>\n",
       "<style scoped>\n",
       "    .dataframe tbody tr th:only-of-type {\n",
       "        vertical-align: middle;\n",
       "    }\n",
       "\n",
       "    .dataframe tbody tr th {\n",
       "        vertical-align: top;\n",
       "    }\n",
       "\n",
       "    .dataframe thead th {\n",
       "        text-align: right;\n",
       "    }\n",
       "</style>\n",
       "<table border=\"1\" class=\"dataframe\">\n",
       "  <thead>\n",
       "    <tr style=\"text-align: right;\">\n",
       "      <th></th>\n",
       "      <th>SAM</th>\n",
       "    </tr>\n",
       "  </thead>\n",
       "  <tbody>\n",
       "    <tr>\n",
       "      <th>2011-08-01</th>\n",
       "      <td>-1.616</td>\n",
       "    </tr>\n",
       "    <tr>\n",
       "      <th>2011-09-01</th>\n",
       "      <td>-2.619</td>\n",
       "    </tr>\n",
       "    <tr>\n",
       "      <th>2011-10-01</th>\n",
       "      <td>0.953</td>\n",
       "    </tr>\n",
       "    <tr>\n",
       "      <th>2011-11-01</th>\n",
       "      <td>-1.061</td>\n",
       "    </tr>\n",
       "    <tr>\n",
       "      <th>2011-12-01</th>\n",
       "      <td>2.421</td>\n",
       "    </tr>\n",
       "  </tbody>\n",
       "</table>\n",
       "</div>"
      ],
      "text/plain": [
       "              SAM\n",
       "2011-08-01 -1.616\n",
       "2011-09-01 -2.619\n",
       "2011-10-01  0.953\n",
       "2011-11-01 -1.061\n",
       "2011-12-01  2.421"
      ]
     },
     "execution_count": 125,
     "metadata": {},
     "output_type": "execute_result"
    }
   ],
   "source": [
    "SAM_20CR.tail()"
   ]
  },
  {
   "cell_type": "code",
   "execution_count": 126,
   "metadata": {},
   "outputs": [
    {
     "data": {
      "text/plain": [
       "<matplotlib.axes._subplots.AxesSubplot at 0x330132c50>"
      ]
     },
     "execution_count": 126,
     "metadata": {},
     "output_type": "execute_result"
    },
    {
     "data": {
      "image/png": "[encoded data removed]",
      "text/plain": [
       "<matplotlib.figure.Figure at 0x32ffce048>"
      ]
     },
     "metadata": {},
     "output_type": "display_data"
    }
   ],
   "source": [
    "SAM_20CR.plot()"
   ]
  },
  {
   "cell_type": "code",
   "execution_count": 127,
   "metadata": {
    "collapsed": true
   },
   "outputs": [],
   "source": [
    "from scipy.stats import linregress"
   ]
  },
  {
   "cell_type": "code",
   "execution_count": 128,
   "metadata": {
    "collapsed": true
   },
   "outputs": [],
   "source": [
    "slope, intercept, r, p, stderr = linregress(np.arange(len(SAM_20CR)), SAM_20CR.loc[:,'SAM'].values)"
   ]
  },
  {
   "cell_type": "code",
   "execution_count": 129,
   "metadata": {},
   "outputs": [
    {
     "data": {
      "text/plain": [
       "0.00090142306185654174"
      ]
     },
     "execution_count": 129,
     "metadata": {},
     "output_type": "execute_result"
    }
   ],
   "source": [
    "slope"
   ]
  },
  {
   "cell_type": "code",
   "execution_count": 130,
   "metadata": {},
   "outputs": [
    {
     "data": {
      "text/plain": [
       "-1.9410693078373977"
      ]
     },
     "execution_count": 130,
     "metadata": {},
     "output_type": "execute_result"
    }
   ],
   "source": [
    "intercept"
   ]
  },
  {
   "cell_type": "code",
   "execution_count": 134,
   "metadata": {},
   "outputs": [
    {
     "data": {
      "text/plain": [
       "0.29777820364303825"
      ]
     },
     "execution_count": 134,
     "metadata": {},
     "output_type": "execute_result"
    }
   ],
   "source": [
    "r"
   ]
  },
  {
   "cell_type": "code",
   "execution_count": 135,
   "metadata": {},
   "outputs": [
    {
     "data": {
      "text/plain": [
       "7.3976850489760522e-41"
      ]
     },
     "execution_count": 135,
     "metadata": {},
     "output_type": "execute_result"
    }
   ],
   "source": [
    "p"
   ]
  },
  {
   "cell_type": "code",
   "execution_count": 131,
   "metadata": {
    "collapsed": true
   },
   "outputs": [],
   "source": [
    "trend = np.arange(len(SAM_20CR)) * slope + intercept"
   ]
  },
  {
   "cell_type": "code",
   "execution_count": 132,
   "metadata": {
    "collapsed": true
   },
   "outputs": [],
   "source": [
    "SAM_20CR.loc[:,'linear_trend'] = trend"
   ]
  },
  {
   "cell_type": "code",
   "execution_count": 133,
   "metadata": {},
   "outputs": [
    {
     "data": {
      "text/plain": [
       "<matplotlib.axes._subplots.AxesSubplot at 0x3305087f0>"
      ]
     },
     "execution_count": 133,
     "metadata": {},
     "output_type": "execute_result"
    },
    {
     "data": {
      "image/png": "[encoded data removed]",
      "text/plain": [
       "<matplotlib.figure.Figure at 0x330145ba8>"
      ]
     },
     "metadata": {},
     "output_type": "display_data"
    }
   ],
   "source": [
    "SAM_20CR.plot()"
   ]
  },
  {
   "cell_type": "code",
   "execution_count": 137,
   "metadata": {
    "collapsed": true
   },
   "outputs": [],
   "source": [
    "from scipy.signal import detrend"
   ]
  },
  {
   "cell_type": "code",
   "execution_count": 138,
   "metadata": {
    "collapsed": true
   },
   "outputs": [],
   "source": [
    "SAM_20CR.loc[:,'detrended'] = detrend(SAM_20CR.loc[:,'SAM'])"
   ]
  },
  {
   "cell_type": "code",
   "execution_count": 154,
   "metadata": {},
   "outputs": [
    {
     "data": {
      "text/plain": [
       "<matplotlib.lines.Line2D at 0x1c3ea09eb8>"
      ]
     },
     "execution_count": 154,
     "metadata": {},
     "output_type": "execute_result"
    },
    {
     "data": {
      "image/png": "[encoded data removed]",
      "text/plain": [
       "<matplotlib.figure.Figure at 0x1c3ea09278>"
      ]
     },
     "metadata": {},
     "output_type": "display_data"
    }
   ],
   "source": [
    "SAM_20CR.loc[:,['SAM','detrended']].plot(subplots=True, figsize=(10,8))\n",
    "axes = plt.gcf().axes\n",
    "axes[0].axhline(0, c='k', alpha=0.5)\n",
    "axes[1].axhline(0, c='k', alpha=0.5)"
   ]
  },
  {
   "cell_type": "code",
   "execution_count": null,
   "metadata": {
    "collapsed": true
   },
   "outputs": [],
   "source": []
  }
 ],
 "metadata": {
  "kernelspec": {
   "display_name": "Python 3",
   "language": "python",
   "name": "python3"
  },
  "language_info": {
   "codemirror_mode": {
    "name": "ipython",
    "version": 3
   },
   "file_extension": ".py",
   "mimetype": "text/x-python",
   "name": "python",
   "nbconvert_exporter": "python",
   "pygments_lexer": "ipython3",
   "version": "3.6.2"
  },
  "toc": {
   "colors": {
    "hover_highlight": "#DAA520",
    "running_highlight": "#FF0000",
    "selected_highlight": "#FFD700"
   },
   "moveMenuLeft": true,
   "nav_menu": {
    "height": "127px",
    "width": "252px"
   },
   "navigate_menu": true,
   "number_sections": true,
   "sideBar": true,
   "threshold": 4,
   "toc_cell": false,
   "toc_section_display": "block",
   "toc_window_display": false,
   "widenNotebook": false
  }
 },
 "nbformat": 4,
 "nbformat_minor": 2
}
