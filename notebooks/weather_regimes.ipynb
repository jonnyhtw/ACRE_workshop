{
 "cells": [
  {
   "cell_type": "markdown",
   "metadata": {
    "slideshow": {
     "slide_type": "slide"
    }
   },
   "source": [
    "# Synoptic types in Python: an analyis of circulation regimes over the New Zealand region"
   ]
  },
  {
   "cell_type": "markdown",
   "metadata": {
    "slideshow": {
     "slide_type": "slide"
    }
   },
   "source": [
    "A definitive introduction to the concept of synoptic types (also *weather regimes*, *circulation regimes*) is beyond the scope of this session, again a good reference \n",
    "is [Michelangeli, P.-A., Vautard, R., & Legras, B. (1995). Weather Regimes: Recurrence and Quasi Stationarity. Journal of Atmospheric Sciences, 52, 1237–1256.](http://journals.ametsoc.org/doi/abs/10.1175/1520-0469%281995%29052%3C1237%3AWRRAQS%3E2.0.CO%3B2)\n",
    "\n",
    "In short: \n",
    "\n",
    "+ there is day to day *variability* in the patterns of atmospheric circulation at all scales from regional to global   \n",
    "        \n",
    "        \n",
    "+ this variability is NOT random \n",
    "\n",
    "        \n",
    "+ at the regional scale particularly, some configuration are preferred --> \"regimes\"  \n",
    "\n",
    "        \n",
    "+ in the non-linear dynamics jargon, these preferred, recurrent configurations of atmospheric circulation are called \"attractors basins\"  \n"
   ]
  },
  {
   "cell_type": "markdown",
   "metadata": {
    "slideshow": {
     "slide_type": "slide"
    }
   },
   "source": [
    "An illustration of the concept of *attractor basins* with the [Lorenz's system](https://en.wikipedia.org/wiki/Lorenz_system)\n",
    "                                                               \n",
    "Lorenz first discovered chaos in 1963 by accident while developing a simple mathematical model of atmospheric convection, using three ordinary differential equations, reference is [Lorenz, E. N. (1963). Deterministic Nonperiodic Flow. Journal of the Atmospheric Sciences, 20(2), 130–141.](http://journals.ametsoc.org/doi/pdf/10.1175/1520-0469%281963%29020%3C0130%3ADNF%3E2.0.CO%3B2)\n",
    "\n",
    "$$\n",
    "\\begin{align}\n",
    "\\dot{x} & = \\sigma(y-x) \\\\\n",
    "\\dot{y} & = \\rho x - y - xz \\\\\n",
    "\\dot{z} & = -\\beta z + xy\n",
    "\\end{align}\n",
    "$$\n",
    "\n",
    "He found that nearly indistinguishable initial conditions could produce completely divergent outcomes, rendering weather prediction impossible beyond a time horizon of about a fortnight.\n",
    "\n",
    "Now known as the **Lorenz System**, this model demonstrates chaos at certain parameter values, below is an animation of its solutions\n",
    "\n",
    "This animation has been taken from the implementation of the Lorenz's system in Python, by Geoff Boeing, available at [https://github.com/gboeing/lorenz-system/blob/master/lorenz-system-attractor-animate.ipynb](https://github.com/gboeing/lorenz-system/blob/master/lorenz-system-attractor-animate.ipynb)"
   ]
  },
  {
   "cell_type": "markdown",
   "metadata": {
    "slideshow": {
     "slide_type": "-"
    }
   },
   "source": [
    "![](./images/animated-lorenz-attractor.gif)"
   ]
  },
  {
   "cell_type": "markdown",
   "metadata": {},
   "source": [
    "In this case, there is clearly 2 **preferred regions** of the phase space that are visited by the trajectories. You can think of these as **recurrent regimes**. It is thought that at the regional scale, the atmospheric circulation \n",
    "follows a similar dynamic, with *N* (finite number of) attractor basins: regions of the phase space which are more likely than other to be visited, i.e. preferred **circulation regimes**, circulation 'types' or 'synoptic' types to refer to their spatial extent. \n",
    "\n",
    "The challenge is to determine these regimes from the data (e.g. daily 'maps' of geopotential)  \n",
    "\n",
    "A common approach is to use [clustering](https://en.wikipedia.org/wiki/Cluster_analysis): i.e. extract N 'clusters' which group days which are 'close' to each other according to some distance criteria (e.g. but not limited to Euclidean distance), many methods exist to do that, from hierarchical clustering and non-hierarchical techniques."
   ]
  },
  {
   "cell_type": "markdown",
   "metadata": {},
   "source": [
    "### Relevance to historical climatology"
   ]
  },
  {
   "cell_type": "markdown",
   "metadata": {},
   "source": [
    "+ day to day **weather** (daily temperatures, rainfall, pressure) related to weather regimes \n",
    "\n",
    "\n",
    "+ The occupation statistics of these regimes (frequency, persistence, preferred transitions) are modulated by large-scale climate modes (ENSO, SAM, etc)   \n",
    "\n",
    "\n",
    "+ i.e. weather regimes provide the *link* between climate modes and local scale, daily *weather*  \n",
    "\n",
    "\n",
    "+ can help to better understand non-linearities, assymetries in the regional signals of global climate modes  \n",
    "\n",
    "\n",
    "+ can help 'reconstruct' likely circulation scenarios from a network of daily weather observations"
   ]
  },
  {
   "cell_type": "markdown",
   "metadata": {},
   "source": [
    "<hr>\n",
    "\n",
    "In this notebook we will try and replicate some of the results of the study by:  \n",
    "\n",
    "**Kidson, 2000: An analysis of New Zealand synoptic types and their use in defining weather regimes, IJC, Volume 20, Issue 3, 15 March 2000, Pages 299–316**\n",
    "\n",
    "who used [k-means](https://en.wikipedia.org/wiki/K-means_clustering) clustering to derive 12 synoptic types (The \"Kidson Types\") over the New Zealand region using reanalysed (NCEP / NCAR, *aka* NCEP 1) 1000 hPa geopotential from 1958 to 1997. \n",
    "\n",
    "The **Kidson types** have been used in a wide variety of studies (from subseasonal forecasting to paleoclimatology)"
   ]
  },
  {
   "cell_type": "markdown",
   "metadata": {},
   "source": [
    "### import the stuff we need"
   ]
  },
  {
   "cell_type": "code",
   "execution_count": 1,
   "metadata": {
    "collapsed": true
   },
   "outputs": [],
   "source": [
    "%matplotlib inline\n",
    "import os\n",
    "import sys\n",
    "import numpy as np\n",
    "import pandas as pd\n",
    "from matplotlib import pyplot as plt\n",
    "import xarray as xr"
   ]
  },
  {
   "cell_type": "code",
   "execution_count": 2,
   "metadata": {
    "collapsed": true
   },
   "outputs": [],
   "source": [
    "from datetime import datetime, timedelta"
   ]
  },
  {
   "cell_type": "code",
   "execution_count": 3,
   "metadata": {
    "collapsed": true
   },
   "outputs": [],
   "source": [
    "from glob import glob"
   ]
  },
  {
   "cell_type": "code",
   "execution_count": 4,
   "metadata": {
    "collapsed": true
   },
   "outputs": [],
   "source": [
    "from IPython.display import Image"
   ]
  },
  {
   "cell_type": "markdown",
   "metadata": {},
   "source": [
    "### downloading the daily NCEP / NCAR HGT from the ESRL and extract a spatial domain"
   ]
  },
  {
   "cell_type": "markdown",
   "metadata": {},
   "source": [
    "as the NCEP / NCAR data is available via FTP rather than HTTP, we will use [cURL](https://curl.haxx.se/)  \n",
    "\n",
    "You can download a **cURL** binary for your platform from [https://curl.haxx.se/dlwiz/](https://curl.haxx.se/dlwiz/)"
   ]
  },
  {
   "cell_type": "markdown",
   "metadata": {},
   "source": [
    "#### base URL"
   ]
  },
  {
   "cell_type": "code",
   "execution_count": 5,
   "metadata": {
    "collapsed": true
   },
   "outputs": [],
   "source": [
    "base_url = 'ftp://ftp.cdc.noaa.gov/Datasets/ncep.reanalysis.dailyavgs/pressure/'"
   ]
  },
  {
   "cell_type": "markdown",
   "metadata": {},
   "source": [
    "#### Geographical domain and level to extract "
   ]
  },
  {
   "cell_type": "markdown",
   "metadata": {},
   "source": [
    "Be aware that the latitude variable is varying from North to South"
   ]
  },
  {
   "cell_type": "code",
   "execution_count": 6,
   "metadata": {
    "collapsed": true
   },
   "outputs": [],
   "source": [
    "lonmin = 160\n",
    "latmin = -55\n",
    "lonmax = 185\n",
    "latmax = -25\n",
    "level = 1000"
   ]
  },
  {
   "cell_type": "markdown",
   "metadata": {},
   "source": [
    "#### directory where to save the dataset"
   ]
  },
  {
   "cell_type": "code",
   "execution_count": 7,
   "metadata": {
    "collapsed": true
   },
   "outputs": [],
   "source": [
    "opath = '../data/NZ/'"
   ]
  },
  {
   "cell_type": "code",
   "execution_count": 8,
   "metadata": {
    "collapsed": true
   },
   "outputs": [],
   "source": [
    "# from subprocess import call\n",
    "# for y in range(1958, 2016 + 1): \n",
    "#     filename = \"hgt.{}.nc\".format(y)\n",
    "#     cmd = \"curl --silent {}/{} -o {}/{}\".format(base_url, filename, opath, filename)\n",
    "#     r = call(cmd, shell=True)\n",
    "#     if r != 0: \n",
    "#         print(\"something went wrong with the download of hgt.{}.nc\".format(y))\n",
    "#         pass\n",
    "#     else: \n",
    "#         dset = xr.open_dataset('{}/{}'.format(opath, filename))\n",
    "#         dset = dset.sel(lat=slice(latmax, latmin), lon=slice(lonmin,lonmax), level=level)\n",
    "#         dset = dset.squeeze()\n",
    "#         os.remove('{}/{}'.format(opath, filename))\n",
    "#         dset.to_netcdf('{}/{}'.format(opath, filename))\n",
    "#         dset.close()"
   ]
  },
  {
   "cell_type": "markdown",
   "metadata": {},
   "source": [
    "### get the list of files in a Python list "
   ]
  },
  {
   "cell_type": "code",
   "execution_count": 9,
   "metadata": {
    "collapsed": true
   },
   "outputs": [],
   "source": [
    "lfiles = glob(os.path.join(opath, 'hgt*.nc')) "
   ]
  },
  {
   "cell_type": "code",
   "execution_count": 10,
   "metadata": {
    "collapsed": true
   },
   "outputs": [],
   "source": [
    "lfiles.sort()"
   ]
  },
  {
   "cell_type": "code",
   "execution_count": 11,
   "metadata": {},
   "outputs": [
    {
     "data": {
      "text/plain": [
       "['../data/NZ/hgt.1958.nc',\n",
       " '../data/NZ/hgt.1959.nc',\n",
       " '../data/NZ/hgt.1960.nc',\n",
       " '../data/NZ/hgt.1961.nc',\n",
       " '../data/NZ/hgt.1962.nc',\n",
       " '../data/NZ/hgt.1963.nc',\n",
       " '../data/NZ/hgt.1964.nc',\n",
       " '../data/NZ/hgt.1965.nc',\n",
       " '../data/NZ/hgt.1966.nc',\n",
       " '../data/NZ/hgt.1967.nc',\n",
       " '../data/NZ/hgt.1968.nc',\n",
       " '../data/NZ/hgt.1969.nc',\n",
       " '../data/NZ/hgt.1970.nc',\n",
       " '../data/NZ/hgt.1971.nc',\n",
       " '../data/NZ/hgt.1972.nc',\n",
       " '../data/NZ/hgt.1973.nc',\n",
       " '../data/NZ/hgt.1974.nc',\n",
       " '../data/NZ/hgt.1975.nc',\n",
       " '../data/NZ/hgt.1976.nc',\n",
       " '../data/NZ/hgt.1977.nc',\n",
       " '../data/NZ/hgt.1978.nc',\n",
       " '../data/NZ/hgt.1979.nc',\n",
       " '../data/NZ/hgt.1980.nc',\n",
       " '../data/NZ/hgt.1981.nc',\n",
       " '../data/NZ/hgt.1982.nc',\n",
       " '../data/NZ/hgt.1983.nc',\n",
       " '../data/NZ/hgt.1984.nc',\n",
       " '../data/NZ/hgt.1985.nc',\n",
       " '../data/NZ/hgt.1986.nc',\n",
       " '../data/NZ/hgt.1987.nc',\n",
       " '../data/NZ/hgt.1988.nc',\n",
       " '../data/NZ/hgt.1989.nc',\n",
       " '../data/NZ/hgt.1990.nc',\n",
       " '../data/NZ/hgt.1991.nc',\n",
       " '../data/NZ/hgt.1992.nc',\n",
       " '../data/NZ/hgt.1993.nc',\n",
       " '../data/NZ/hgt.1994.nc',\n",
       " '../data/NZ/hgt.1995.nc',\n",
       " '../data/NZ/hgt.1996.nc',\n",
       " '../data/NZ/hgt.1997.nc',\n",
       " '../data/NZ/hgt.1998.nc',\n",
       " '../data/NZ/hgt.1999.nc',\n",
       " '../data/NZ/hgt.2000.nc',\n",
       " '../data/NZ/hgt.2001.nc',\n",
       " '../data/NZ/hgt.2002.nc',\n",
       " '../data/NZ/hgt.2003.nc',\n",
       " '../data/NZ/hgt.2004.nc',\n",
       " '../data/NZ/hgt.2005.nc',\n",
       " '../data/NZ/hgt.2006.nc',\n",
       " '../data/NZ/hgt.2007.nc',\n",
       " '../data/NZ/hgt.2008.nc',\n",
       " '../data/NZ/hgt.2009.nc',\n",
       " '../data/NZ/hgt.2010.nc',\n",
       " '../data/NZ/hgt.2011.nc',\n",
       " '../data/NZ/hgt.2012.nc',\n",
       " '../data/NZ/hgt.2013.nc',\n",
       " '../data/NZ/hgt.2014.nc',\n",
       " '../data/NZ/hgt.2015.nc',\n",
       " '../data/NZ/hgt.2016.nc']"
      ]
     },
     "execution_count": 11,
     "metadata": {},
     "output_type": "execute_result"
    }
   ],
   "source": [
    "lfiles"
   ]
  },
  {
   "cell_type": "markdown",
   "metadata": {},
   "source": [
    "### set a random seed to ensure reproducibility of the results "
   ]
  },
  {
   "cell_type": "code",
   "execution_count": 12,
   "metadata": {
    "collapsed": true
   },
   "outputs": [],
   "source": [
    "np.random.seed(42)"
   ]
  },
  {
   "cell_type": "markdown",
   "metadata": {},
   "source": [
    "## reads in the dataset"
   ]
  },
  {
   "cell_type": "code",
   "execution_count": 13,
   "metadata": {
    "collapsed": true
   },
   "outputs": [],
   "source": [
    "dset = xr.open_mfdataset(lfiles)"
   ]
  },
  {
   "cell_type": "code",
   "execution_count": 14,
   "metadata": {},
   "outputs": [
    {
     "data": {
      "text/plain": [
       "<xarray.Dataset>\n",
       "Dimensions:    (lat: 13, lon: 11, nbnds: 2, time: 21550)\n",
       "Coordinates:\n",
       "  * time       (time) datetime64[ns] 1958-01-01 1958-01-02 1958-01-03 ...\n",
       "    level      float32 1000.0\n",
       "  * lat        (lat) float32 -25.0 -27.5 -30.0 -32.5 -35.0 -37.5 -40.0 -42.5 ...\n",
       "  * lon        (lon) float32 160.0 162.5 165.0 167.5 170.0 172.5 175.0 177.5 ...\n",
       "Dimensions without coordinates: nbnds\n",
       "Data variables:\n",
       "    hgt        (time, lat, lon) float64 dask.array<shape=(21550, 13, 11), chunksize=(365, 13, 11)>\n",
       "    time_bnds  (time, nbnds) float64 dask.array<shape=(21550, 2), chunksize=(20819, 2)>\n",
       "Attributes:\n",
       "    Conventions:    COARDS\n",
       "    title:          mean daily NMC Reanalysis (1958)\n",
       "    description:    Data is from NMC initialized reanalysis\\n(4x/day).  It co...\n",
       "    platform:       Model\n",
       "    history:        created 97/10/04 by Hoop (netCDF2.3)\\nConverted to chunke...\n",
       "    References:     http://www.esrl.noaa.gov/psd/data/gridded/data.ncep.reana...\n",
       "    dataset_title:  NCEP-NCAR Reanalysis 1"
      ]
     },
     "execution_count": 14,
     "metadata": {},
     "output_type": "execute_result"
    }
   ],
   "source": [
    "dset"
   ]
  },
  {
   "cell_type": "markdown",
   "metadata": {},
   "source": [
    "### select the period indicated to be utlized in the Kidson 2000 paper"
   ]
  },
  {
   "cell_type": "code",
   "execution_count": 15,
   "metadata": {
    "collapsed": true
   },
   "outputs": [],
   "source": [
    "dset = dset.sel(time=slice('1958-1-1','1997-6-30'))"
   ]
  },
  {
   "cell_type": "markdown",
   "metadata": {},
   "source": [
    "### calculates the time mean over the whole period"
   ]
  },
  {
   "cell_type": "code",
   "execution_count": 16,
   "metadata": {
    "collapsed": true
   },
   "outputs": [],
   "source": [
    "dsetm = dset.mean('time')"
   ]
  },
  {
   "cell_type": "markdown",
   "metadata": {},
   "source": [
    "### mapping with [cartopy](http://scitools.org.uk/cartopy/)"
   ]
  },
  {
   "cell_type": "code",
   "execution_count": 17,
   "metadata": {
    "collapsed": true
   },
   "outputs": [],
   "source": [
    "import cartopy\n",
    "import cartopy.crs as ccrs\n",
    "from cartopy.mpl.ticker import LongitudeFormatter, LatitudeFormatter"
   ]
  },
  {
   "cell_type": "code",
   "execution_count": 18,
   "metadata": {
    "collapsed": true
   },
   "outputs": [],
   "source": [
    "lat = dset.lat\n",
    "lon = dset.lon"
   ]
  },
  {
   "cell_type": "code",
   "execution_count": 19,
   "metadata": {
    "collapsed": true
   },
   "outputs": [],
   "source": [
    "lons, lats = np.meshgrid(lon, lat)"
   ]
  },
  {
   "cell_type": "code",
   "execution_count": 20,
   "metadata": {
    "collapsed": true
   },
   "outputs": [],
   "source": [
    "central_longitude = 180."
   ]
  },
  {
   "cell_type": "code",
   "execution_count": 21,
   "metadata": {
    "collapsed": true
   },
   "outputs": [],
   "source": [
    "proj = ccrs.PlateCarree(central_longitude=central_longitude)"
   ]
  },
  {
   "cell_type": "code",
   "execution_count": 22,
   "metadata": {},
   "outputs": [
    {
     "data": {
      "image/png": "[encoded data removed]",
      "text/plain": [
       "<matplotlib.figure.Figure at 0x118fb22e8>"
      ]
     },
     "metadata": {},
     "output_type": "display_data"
    }
   ],
   "source": [
    "f, ax = plt.subplots(figsize=(10,8), subplot_kw={'projection':proj})\n",
    "\n",
    "ax.coastlines('10m')\n",
    "\n",
    "c = ax.contour(lons - central_longitude, lats, dsetm['hgt'], np.arange(-100, 200, 5))\n",
    "\n",
    "plt.clabel(c, fmt='%i')\n",
    "\n",
    "ax.set_extent([lon.data.min() - central_longitude, lon.data.max() - central_longitude, lat.data.min(), lat.data.max()], crs=proj)"
   ]
  },
  {
   "cell_type": "markdown",
   "metadata": {},
   "source": [
    "### make a function "
   ]
  },
  {
   "cell_type": "code",
   "execution_count": 23,
   "metadata": {
    "collapsed": true
   },
   "outputs": [],
   "source": [
    "def make_map(X, lons, lats, vmin=-250, vmax=250, step=10, ax=None, central_longitude=180., fmt='%i'): \n",
    "    \n",
    "    from numpy import ma\n",
    "    \n",
    "    if not(ax): \n",
    "        central_longitude = 180.\n",
    "        proj = ccrs.PlateCarree(central_longitude=central_longitude)\n",
    "        f, ax = plt.subplots(figsize=(10,8), subplot_kw={'projection':proj})\n",
    "        \n",
    "    proj = ccrs.PlateCarree(central_longitude=central_longitude)\n",
    "    \n",
    "    ax.coastlines('10m')\n",
    "            \n",
    "    if X.min() < 0 and X.max() > 0: \n",
    "        p = ax.contour(lons - central_longitude, lats, ma.masked_less(X,0), np.arange(0, vmax + step, step), colors='r')\n",
    "        n = ax.contour(lons - central_longitude, lats, ma.masked_greater(X,0), np.arange(vmin, 0, step), colors='b')\n",
    "        \n",
    "        ax.contour(lons - central_longitude, lats, X, np.array([0]), colors='k')\n",
    "        \n",
    "        plt.clabel(p, fmt=fmt)\n",
    "        plt.clabel(n, fmt=fmt) \n",
    "    elif X.min() < 0 and X.max() < 0: \n",
    "        n = ax.contour(lons - central_longitude, lats, X, np.arange(vmin, vmax + step, step), colors='b')\n",
    "        plt.clabel(n, fmt=fmt)\n",
    "    else: \n",
    "        p = ax.contour(lons - central_longitude, lats, X, np.arange(vmin, vmax + step, step), colors='r')\n",
    "        plt.clabel(p, fmt=fmt)        \n",
    "                            \n",
    "    ax.set_extent([lon.data.min() - central_longitude, lon.data.max() - central_longitude, lat.data.min(), lat.data.max()], crs=proj)"
   ]
  },
  {
   "cell_type": "code",
   "execution_count": 24,
   "metadata": {},
   "outputs": [
    {
     "data": {
      "image/png": "[encoded data removed]",
      "text/plain": [
       "<matplotlib.figure.Figure at 0x118fb2278>"
      ]
     },
     "metadata": {},
     "output_type": "display_data"
    }
   ],
   "source": [
    "make_map(dsetm['hgt'].data, lons, lats)"
   ]
  },
  {
   "cell_type": "code",
   "execution_count": 25,
   "metadata": {},
   "outputs": [
    {
     "data": {
      "text/plain": [
       "<xarray.Dataset>\n",
       "Dimensions:    (lat: 13, lon: 11, nbnds: 2, time: 14426)\n",
       "Coordinates:\n",
       "  * time       (time) datetime64[ns] 1958-01-01 1958-01-02 1958-01-03 ...\n",
       "    level      float32 1000.0\n",
       "  * lat        (lat) float32 -25.0 -27.5 -30.0 -32.5 -35.0 -37.5 -40.0 -42.5 ...\n",
       "  * lon        (lon) float32 160.0 162.5 165.0 167.5 170.0 172.5 175.0 177.5 ...\n",
       "Dimensions without coordinates: nbnds\n",
       "Data variables:\n",
       "    hgt        (time, lat, lon) float64 dask.array<shape=(14426, 13, 11), chunksize=(365, 13, 11)>\n",
       "    time_bnds  (time, nbnds) float64 dask.array<shape=(14426, 2), chunksize=(14426, 2)>\n",
       "Attributes:\n",
       "    Conventions:    COARDS\n",
       "    title:          mean daily NMC Reanalysis (1958)\n",
       "    description:    Data is from NMC initialized reanalysis\\n(4x/day).  It co...\n",
       "    platform:       Model\n",
       "    history:        created 97/10/04 by Hoop (netCDF2.3)\\nConverted to chunke...\n",
       "    References:     http://www.esrl.noaa.gov/psd/data/gridded/data.ncep.reana...\n",
       "    dataset_title:  NCEP-NCAR Reanalysis 1"
      ]
     },
     "execution_count": 25,
     "metadata": {},
     "output_type": "execute_result"
    }
   ],
   "source": [
    "dset"
   ]
  },
  {
   "cell_type": "code",
   "execution_count": 26,
   "metadata": {
    "collapsed": true
   },
   "outputs": [],
   "source": [
    "hgt = dset['hgt']"
   ]
  },
  {
   "cell_type": "code",
   "execution_count": 27,
   "metadata": {},
   "outputs": [
    {
     "data": {
      "text/plain": [
       "<xarray.DataArray 'hgt' (time: 14426, lat: 13, lon: 11)>\n",
       "dask.array<shape=(14426, 13, 11), dtype=float64, chunksize=(365, 13, 11)>\n",
       "Coordinates:\n",
       "  * time     (time) datetime64[ns] 1958-01-01 1958-01-02 1958-01-03 ...\n",
       "    level    float32 1000.0\n",
       "  * lat      (lat) float32 -25.0 -27.5 -30.0 -32.5 -35.0 -37.5 -40.0 -42.5 ...\n",
       "  * lon      (lon) float32 160.0 162.5 165.0 167.5 170.0 172.5 175.0 177.5 ...\n",
       "Attributes:\n",
       "    long_name:    mean Daily Geopotential height\n",
       "    units:        m\n",
       "    precision:    0\n",
       "    GRIB_id:      7\n",
       "    GRIB_name:    HGT\n",
       "    var_desc:     Geopotential height\n",
       "    dataset:      NCEP Reanalysis Daily Averages\n",
       "    level_desc:   Multiple levels\n",
       "    statistic:    Mean\n",
       "    parent_stat:  Individual Obs\n",
       "    valid_range:  [  -700.  35000.]"
      ]
     },
     "execution_count": 27,
     "metadata": {},
     "output_type": "execute_result"
    }
   ],
   "source": [
    "hgt"
   ]
  },
  {
   "cell_type": "markdown",
   "metadata": {},
   "source": [
    "### we now need to go from 3D (time, lat, lon) to 2D (time, space [lat X lon]) to perform the PCA (EOF) analyis"
   ]
  },
  {
   "cell_type": "code",
   "execution_count": 28,
   "metadata": {
    "collapsed": true
   },
   "outputs": [],
   "source": [
    "hgt_stacked = hgt.stack(latlon=('lat', 'lon'))"
   ]
  },
  {
   "cell_type": "code",
   "execution_count": 29,
   "metadata": {},
   "outputs": [
    {
     "data": {
      "text/plain": [
       "<xarray.DataArray 'hgt' (time: 14426, latlon: 143)>\n",
       "dask.array<shape=(14426, 143), dtype=float64, chunksize=(365, 143)>\n",
       "Coordinates:\n",
       "  * time     (time) datetime64[ns] 1958-01-01 1958-01-02 1958-01-03 ...\n",
       "    level    float32 1000.0\n",
       "  * latlon   (latlon) MultiIndex\n",
       "  - lat      (latlon) float64 -25.0 -25.0 -25.0 -25.0 -25.0 -25.0 -25.0 ...\n",
       "  - lon      (latlon) float64 160.0 162.5 165.0 167.5 170.0 172.5 175.0 ...\n",
       "Attributes:\n",
       "    long_name:    mean Daily Geopotential height\n",
       "    units:        m\n",
       "    precision:    0\n",
       "    GRIB_id:      7\n",
       "    GRIB_name:    HGT\n",
       "    var_desc:     Geopotential height\n",
       "    dataset:      NCEP Reanalysis Daily Averages\n",
       "    level_desc:   Multiple levels\n",
       "    statistic:    Mean\n",
       "    parent_stat:  Individual Obs\n",
       "    valid_range:  [  -700.  35000.]"
      ]
     },
     "execution_count": 29,
     "metadata": {},
     "output_type": "execute_result"
    }
   ],
   "source": [
    "hgt_stacked"
   ]
  },
  {
   "cell_type": "code",
   "execution_count": 30,
   "metadata": {},
   "outputs": [
    {
     "data": {
      "text/plain": [
       "(14426, 13, 11)"
      ]
     },
     "execution_count": 30,
     "metadata": {},
     "output_type": "execute_result"
    }
   ],
   "source": [
    "hgt.shape"
   ]
  },
  {
   "cell_type": "code",
   "execution_count": 31,
   "metadata": {},
   "outputs": [
    {
     "data": {
      "text/plain": [
       "(14426, 143)"
      ]
     },
     "execution_count": 31,
     "metadata": {},
     "output_type": "execute_result"
    }
   ],
   "source": [
    "hgt_stacked.shape"
   ]
  },
  {
   "cell_type": "code",
   "execution_count": 32,
   "metadata": {},
   "outputs": [
    {
     "data": {
      "text/plain": [
       "dask.array.core.Array"
      ]
     },
     "execution_count": 32,
     "metadata": {},
     "output_type": "execute_result"
    }
   ],
   "source": [
    "type(hgt_stacked.data)"
   ]
  },
  {
   "cell_type": "markdown",
   "metadata": {},
   "source": [
    "### we now need to LOAD the dataset in memory in order to perform the PCA (EOF analysis)"
   ]
  },
  {
   "cell_type": "code",
   "execution_count": 33,
   "metadata": {},
   "outputs": [
    {
     "data": {
      "text/plain": [
       "<xarray.DataArray 'hgt' (time: 14426, latlon: 143)>\n",
       "array([[  84.,   92.,  101., ...,  -22.,  -39.,  -64.],\n",
       "       [  97.,   97.,   97., ...,   57.,   61.,   65.],\n",
       "       [ 108.,  105.,  101., ...,   40.,   20.,    6.],\n",
       "       ..., \n",
       "       [ 132.,  134.,  135., ...,   62.,   48.,   34.],\n",
       "       [ 125.,  120.,  116., ...,   31.,   23.,   14.],\n",
       "       [ 133.,  119.,  106., ...,   46.,   39.,   30.]])\n",
       "Coordinates:\n",
       "  * time     (time) datetime64[ns] 1958-01-01 1958-01-02 1958-01-03 ...\n",
       "    level    float32 1000.0\n",
       "  * latlon   (latlon) MultiIndex\n",
       "  - lat      (latlon) float64 -25.0 -25.0 -25.0 -25.0 -25.0 -25.0 -25.0 ...\n",
       "  - lon      (latlon) float64 160.0 162.5 165.0 167.5 170.0 172.5 175.0 ...\n",
       "Attributes:\n",
       "    long_name:    mean Daily Geopotential height\n",
       "    units:        m\n",
       "    precision:    0\n",
       "    GRIB_id:      7\n",
       "    GRIB_name:    HGT\n",
       "    var_desc:     Geopotential height\n",
       "    dataset:      NCEP Reanalysis Daily Averages\n",
       "    level_desc:   Multiple levels\n",
       "    statistic:    Mean\n",
       "    parent_stat:  Individual Obs\n",
       "    valid_range:  [  -700.  35000.]"
      ]
     },
     "execution_count": 33,
     "metadata": {},
     "output_type": "execute_result"
    }
   ],
   "source": [
    "hgt_stacked.load()"
   ]
  },
  {
   "cell_type": "code",
   "execution_count": 34,
   "metadata": {},
   "outputs": [
    {
     "data": {
      "text/plain": [
       "numpy.ndarray"
      ]
     },
     "execution_count": 34,
     "metadata": {},
     "output_type": "execute_result"
    }
   ],
   "source": [
    "type(hgt_stacked.data)"
   ]
  },
  {
   "cell_type": "code",
   "execution_count": 35,
   "metadata": {
    "collapsed": true
   },
   "outputs": [],
   "source": [
    "X = hgt_stacked.data"
   ]
  },
  {
   "cell_type": "code",
   "execution_count": 36,
   "metadata": {},
   "outputs": [
    {
     "data": {
      "text/plain": [
       "(14426, 143)"
      ]
     },
     "execution_count": 36,
     "metadata": {},
     "output_type": "execute_result"
    }
   ],
   "source": [
    "X.shape"
   ]
  },
  {
   "cell_type": "code",
   "execution_count": 37,
   "metadata": {},
   "outputs": [
    {
     "data": {
      "text/plain": [
       "numpy.ndarray"
      ]
     },
     "execution_count": 37,
     "metadata": {},
     "output_type": "execute_result"
    }
   ],
   "source": [
    "type(X)"
   ]
  },
  {
   "cell_type": "markdown",
   "metadata": {},
   "source": [
    "The number of variables (features) is 143 (13 points in latitude * 11 points in longitude): while we can attend to perform our cluster analysis directly on this matrix, \n",
    "it is expensive computationally, i.e. each day (observation) is associated to a point with 143 coordinates, we need to find clusters in 143 dimensions ...\n",
    "\n",
    "The approach generally taken is to **reduce the dimensionality** of the original dataset using methods such as [Principal Component (or Empirical Orthoginal Function) Analysis](https://en.wikipedia.org/wiki/Principal_component_analysis). This is the approach that has been used by Kidson, and we will try and follow the way he processed the data as described in the paper."
   ]
  },
  {
   "cell_type": "markdown",
   "metadata": {},
   "source": [
    "## do PCA / EOF analysis of daily geopotential fields"
   ]
  },
  {
   "cell_type": "markdown",
   "metadata": {},
   "source": [
    "To perform the PCA, we will use the excellent (not enough superlatives here !) [scikit-learn](http://scikit-learn.org/) Machine Learning library  \n",
    "\n",
    "**Scikit-learn** implements a wide array of [supervised](http://en.wikipedia.org/wiki/Supervised_learning) and [unsupervised](http://en.wikipedia.org/wiki/Unsupervised_learning) Machine Learning algorithms, \n",
    "\n",
    "**Unsupervised** refers to algorithms which learn from a training set of unlabeled examples, using the features of the inputs to categorize inputs together according to some statistical criteria.\n",
    "\n",
    "Unsupervised learning algorithms are usually separated into :\n",
    "\n",
    "+ [Dimensionality reduction](http://scikit-learn.org/stable/modules/decomposition.html#decompositions) , whicn *learns* a more compact representation  of the data (i.e. reducing the dimensions).\n",
    "\n",
    "+ [Clustering](http://scikit-learn.org/stable/modules/clustering.html#clustering)\n"
   ]
  },
  {
   "cell_type": "markdown",
   "metadata": {},
   "source": [
    "scikit-learn exposes a very useful [preprocessing](http://scikit-learn.org/stable/modules/preprocessing.html#preprocessing) submodule, which allows to do various transformations on your input data, in this case we will *standardisation* the dataset, removing the mean and dividing by the standard deviation ... "
   ]
  },
  {
   "cell_type": "code",
   "execution_count": 38,
   "metadata": {
    "collapsed": true
   },
   "outputs": [],
   "source": [
    "from sklearn.preprocessing import StandardScaler"
   ]
  },
  {
   "cell_type": "code",
   "execution_count": 39,
   "metadata": {
    "collapsed": true
   },
   "outputs": [],
   "source": [
    "scaler  = StandardScaler()"
   ]
  },
  {
   "cell_type": "code",
   "execution_count": 40,
   "metadata": {
    "collapsed": true
   },
   "outputs": [],
   "source": [
    "scaler = scaler.fit(X)"
   ]
  },
  {
   "cell_type": "code",
   "execution_count": 41,
   "metadata": {
    "collapsed": true
   },
   "outputs": [],
   "source": [
    "X = scaler.transform(X)"
   ]
  },
  {
   "cell_type": "code",
   "execution_count": 42,
   "metadata": {},
   "outputs": [
    {
     "data": {
      "text/plain": [
       "(14426, 143)"
      ]
     },
     "execution_count": 42,
     "metadata": {},
     "output_type": "execute_result"
    }
   ],
   "source": [
    "X.shape"
   ]
  },
  {
   "cell_type": "code",
   "execution_count": 43,
   "metadata": {},
   "outputs": [
    {
     "data": {
      "text/plain": [
       "array([ -2.98516738e-16,  -7.01142858e-17,   6.47155512e-17,\n",
       "        -3.44010600e-18,  -8.00359517e-16,  -1.30754812e-16,\n",
       "        -1.05404232e-16,  -2.08869076e-16,  -3.33367051e-16,\n",
       "         1.29592718e-16,   3.28874519e-16,  -1.16224789e-16,\n",
       "        -2.89376792e-16,   2.67912685e-16,   1.25473826e-15,\n",
       "        -1.24074696e-16,  -2.48965166e-16,   1.97817639e-16,\n",
       "        -2.45578932e-16,   3.49828766e-16,   2.93447968e-17,\n",
       "         1.51060673e-16,   6.58291604e-16,  -3.46319396e-18,\n",
       "         1.34402710e-16,   5.75290389e-16,   3.54692630e-16,\n",
       "         1.42529672e-16,  -3.02760112e-16,   2.10716113e-16,\n",
       "         1.00817424e-17,   2.53305702e-16,   1.81094260e-16,\n",
       "         2.23987842e-16,   2.82011732e-16,   2.79210393e-16,\n",
       "         1.47947646e-16,  -2.00218787e-16,   1.60107305e-16,\n",
       "         1.39389709e-16,  -8.58872103e-18,  -1.72713331e-16,\n",
       "        -1.45115523e-16,  -2.07405395e-16,   1.49729267e-16,\n",
       "         2.43008472e-16,   2.02558367e-17,  -8.74417996e-17,\n",
       "        -2.32018604e-16,   1.40713419e-16,   7.73908411e-17,\n",
       "        -4.69916941e-17,  -4.22124864e-17,  -2.08489087e-16,\n",
       "         3.77680542e-17,   1.87957156e-16,   2.02902762e-16,\n",
       "         2.03481885e-17,   1.47455103e-16,  -4.99161690e-17,\n",
       "        -1.63693635e-16,  -1.97986951e-16,  -9.56149373e-17,\n",
       "         1.32602811e-16,  -6.02903589e-17,  -9.90473473e-17,\n",
       "        -2.49196046e-17,   3.59325614e-17,   6.84365607e-18,\n",
       "        -1.29687956e-16,   6.45269995e-17,   5.10686430e-17,\n",
       "         1.88481926e-17,   1.57092402e-16,   1.21796684e-16,\n",
       "         1.03457148e-16,   7.69598658e-19,   4.38825155e-17,\n",
       "         7.68752100e-17,   7.27270732e-18,  -1.01663983e-16,\n",
       "         1.66925949e-17,   2.30109999e-18,  -9.26211985e-17,\n",
       "        -2.52743895e-16,   6.89560398e-17,   1.08421059e-16,\n",
       "        -7.51282210e-17,  -4.00806981e-17,   2.32726634e-17,\n",
       "         7.86068070e-17,  -1.14908776e-16,  -2.30494798e-17,\n",
       "        -1.47301183e-17,  -5.21633971e-17,  -1.13200267e-16,\n",
       "        -7.17573789e-17,   3.57863376e-17,   6.29839542e-17,\n",
       "        -7.84528872e-17,  -2.76131999e-17,   3.35929814e-16,\n",
       "         5.62253388e-16,   7.27116812e-17,  -6.69089074e-17,\n",
       "         1.93169263e-17,  -1.21735116e-16,   1.43691766e-16,\n",
       "        -3.83029252e-17,  -7.36736796e-17,   2.91370052e-17,\n",
       "         5.82124425e-17,   1.83210657e-16,   8.09002110e-17,\n",
       "        -3.55862420e-17,   9.15822404e-19,  -6.07752061e-17,\n",
       "        -1.35287748e-16,   1.44607588e-17,   2.32264875e-17,\n",
       "        -4.82538359e-17,  -9.23518390e-18,  -1.01109872e-16,\n",
       "        -5.44029292e-17,  -3.83183172e-17,  -1.35226180e-16,\n",
       "        -1.00047826e-19,  -1.28453712e-16,   2.23106651e-17,\n",
       "        -7.88838625e-18,   3.01028515e-17,   7.59016677e-17,\n",
       "         7.66520264e-18,  -5.03317523e-17,  -6.68550355e-17,\n",
       "         7.55668923e-17,  -1.64478625e-16,  -1.30046781e-16,\n",
       "         1.38266095e-16,   2.36305268e-17,  -4.97968812e-17,\n",
       "         1.21596588e-16,   5.11167429e-17])"
      ]
     },
     "execution_count": 43,
     "metadata": {},
     "output_type": "execute_result"
    }
   ],
   "source": [
    "X.mean(0)"
   ]
  },
  {
   "cell_type": "code",
   "execution_count": 44,
   "metadata": {},
   "outputs": [
    {
     "data": {
      "text/plain": [
       "1.1683261087926228e-17"
      ]
     },
     "execution_count": 44,
     "metadata": {},
     "output_type": "execute_result"
    }
   ],
   "source": [
    "X.mean()"
   ]
  },
  {
   "cell_type": "code",
   "execution_count": 45,
   "metadata": {},
   "outputs": [
    {
     "data": {
      "text/plain": [
       "array([ 1.,  1.,  1.,  1.,  1.,  1.,  1.,  1.,  1.,  1.,  1.,  1.,  1.,\n",
       "        1.,  1.,  1.,  1.,  1.,  1.,  1.,  1.,  1.,  1.,  1.,  1.,  1.,\n",
       "        1.,  1.,  1.,  1.,  1.,  1.,  1.,  1.,  1.,  1.,  1.,  1.,  1.,\n",
       "        1.,  1.,  1.,  1.,  1.,  1.,  1.,  1.,  1.,  1.,  1.,  1.,  1.,\n",
       "        1.,  1.,  1.,  1.,  1.,  1.,  1.,  1.,  1.,  1.,  1.,  1.,  1.,\n",
       "        1.,  1.,  1.,  1.,  1.,  1.,  1.,  1.,  1.,  1.,  1.,  1.,  1.,\n",
       "        1.,  1.,  1.,  1.,  1.,  1.,  1.,  1.,  1.,  1.,  1.,  1.,  1.,\n",
       "        1.,  1.,  1.,  1.,  1.,  1.,  1.,  1.,  1.,  1.,  1.,  1.,  1.,\n",
       "        1.,  1.,  1.,  1.,  1.,  1.,  1.,  1.,  1.,  1.,  1.,  1.,  1.,\n",
       "        1.,  1.,  1.,  1.,  1.,  1.,  1.,  1.,  1.,  1.,  1.,  1.,  1.,\n",
       "        1.,  1.,  1.,  1.,  1.,  1.,  1.,  1.,  1.,  1.,  1.,  1.,  1.])"
      ]
     },
     "execution_count": 45,
     "metadata": {},
     "output_type": "execute_result"
    }
   ],
   "source": [
    "X.std(0)"
   ]
  },
  {
   "cell_type": "markdown",
   "metadata": {},
   "source": [
    "### The pca class itself is in the *decomposition* submodule of scikit-learn"
   ]
  },
  {
   "cell_type": "code",
   "execution_count": 46,
   "metadata": {
    "collapsed": true
   },
   "outputs": [],
   "source": [
    "from sklearn.decomposition import pca"
   ]
  },
  {
   "cell_type": "code",
   "execution_count": 47,
   "metadata": {
    "collapsed": true
   },
   "outputs": [],
   "source": [
    "skpca = pca.PCA()"
   ]
  },
  {
   "cell_type": "code",
   "execution_count": 48,
   "metadata": {},
   "outputs": [
    {
     "data": {
      "text/plain": [
       "PCA(copy=True, iterated_power='auto', n_components=None, random_state=None,\n",
       "  svd_solver='auto', tol=0.0, whiten=False)"
      ]
     },
     "execution_count": 48,
     "metadata": {},
     "output_type": "execute_result"
    }
   ],
   "source": [
    "skpca.fit(X)"
   ]
  },
  {
   "cell_type": "code",
   "execution_count": 49,
   "metadata": {},
   "outputs": [
    {
     "data": {
      "image/png": "[encoded data removed]",
      "text/plain": [
       "<matplotlib.figure.Figure at 0x11c4f5550>"
      ]
     },
     "metadata": {},
     "output_type": "display_data"
    }
   ],
   "source": [
    "f, ax = plt.subplots(figsize=(6,6))\n",
    "ax.plot(range(1,21), skpca.explained_variance_ratio_[0:20]*100)\n",
    "ax.plot(range(1,21), skpca.explained_variance_ratio_[0:20]*100,'ro')\n",
    "ax.grid(ls=':')\n",
    "ax.set_xticks(range(1,21)); \n",
    "ax.set_xlabel('PC#');\n",
    "ax.set_ylabel(\"% variance\");"
   ]
  },
  {
   "cell_type": "markdown",
   "metadata": {},
   "source": [
    "### In his paper, Kidson keeps the first 5 Principal Components and perform the cluster analysis on the subspace spanned by these 5 PCs"
   ]
  },
  {
   "cell_type": "code",
   "execution_count": 50,
   "metadata": {
    "collapsed": true
   },
   "outputs": [],
   "source": [
    "ipc = 5"
   ]
  },
  {
   "cell_type": "code",
   "execution_count": 51,
   "metadata": {},
   "outputs": [
    {
     "data": {
      "text/plain": [
       "0.92957861778241468"
      ]
     },
     "execution_count": 51,
     "metadata": {},
     "output_type": "execute_result"
    }
   ],
   "source": [
    "skpca.explained_variance_ratio_[:ipc].sum()"
   ]
  },
  {
   "cell_type": "markdown",
   "metadata": {},
   "source": [
    "Together they explain more than 90% of the total variance contained in the dataset"
   ]
  },
  {
   "cell_type": "code",
   "execution_count": 52,
   "metadata": {
    "collapsed": true
   },
   "outputs": [],
   "source": [
    "PCs = skpca.transform(X)"
   ]
  },
  {
   "cell_type": "code",
   "execution_count": 53,
   "metadata": {
    "collapsed": true
   },
   "outputs": [],
   "source": [
    "PCs = PCs[:,:ipc]"
   ]
  },
  {
   "cell_type": "markdown",
   "metadata": {},
   "source": [
    "### the EOFS contain the spatial patterns associated with each PC"
   ]
  },
  {
   "cell_type": "code",
   "execution_count": 54,
   "metadata": {
    "collapsed": true
   },
   "outputs": [],
   "source": [
    "EOFs = skpca.components_"
   ]
  },
  {
   "cell_type": "code",
   "execution_count": 55,
   "metadata": {
    "collapsed": true
   },
   "outputs": [],
   "source": [
    "EOFs = EOFs[:ipc,:]"
   ]
  },
  {
   "cell_type": "code",
   "execution_count": 56,
   "metadata": {},
   "outputs": [
    {
     "data": {
      "text/plain": [
       "(5, 143)"
      ]
     },
     "execution_count": 56,
     "metadata": {},
     "output_type": "execute_result"
    }
   ],
   "source": [
    "EOFs.shape"
   ]
  },
  {
   "cell_type": "code",
   "execution_count": 57,
   "metadata": {
    "collapsed": true
   },
   "outputs": [],
   "source": [
    "EOFs_r = EOFs.reshape((ipc, len(lat), len(lon)))"
   ]
  },
  {
   "cell_type": "code",
   "execution_count": 58,
   "metadata": {},
   "outputs": [
    {
     "data": {
      "image/png": "[encoded data removed]",
      "text/plain": [
       "<matplotlib.figure.Figure at 0x11c4e9c18>"
      ]
     },
     "metadata": {},
     "output_type": "display_data"
    }
   ],
   "source": [
    "make_map(EOFs_r[0,:,:], lons, lats, vmin=-0.2, vmax=0.2, step=0.010, fmt='%4.2f')"
   ]
  },
  {
   "cell_type": "markdown",
   "metadata": {},
   "source": [
    "In his paper, not clear whether Kidson *scaled* (standardised) the PCs or not, trying with and without standardisation seem to indicated he DID NOT standardise the PCs prior to the cluster analysis"
   ]
  },
  {
   "cell_type": "code",
   "execution_count": 59,
   "metadata": {
    "collapsed": true
   },
   "outputs": [],
   "source": [
    "# scaler_PCs = StandardScaler()\n",
    "# scaler_PCs.fit(PCs)\n",
    "# PCs_std = scaler_PCs.transform(PCs)"
   ]
  },
  {
   "cell_type": "code",
   "execution_count": 60,
   "metadata": {
    "collapsed": true
   },
   "outputs": [],
   "source": [
    "PCdf = pd.DataFrame(PCs, index = dset['time'], \\\n",
    "                    columns = [\"PC%s\" % (x) for x in range(1, PCs.shape[1] +1)])"
   ]
  },
  {
   "cell_type": "code",
   "execution_count": 61,
   "metadata": {},
   "outputs": [
    {
     "data": {
      "text/html": [
       "<div>\n",
       "<style scoped>\n",
       "    .dataframe tbody tr th:only-of-type {\n",
       "        vertical-align: middle;\n",
       "    }\n",
       "\n",
       "    .dataframe tbody tr th {\n",
       "        vertical-align: top;\n",
       "    }\n",
       "\n",
       "    .dataframe thead th {\n",
       "        text-align: right;\n",
       "    }\n",
       "</style>\n",
       "<table border=\"1\" class=\"dataframe\">\n",
       "  <thead>\n",
       "    <tr style=\"text-align: right;\">\n",
       "      <th></th>\n",
       "      <th>PC1</th>\n",
       "      <th>PC2</th>\n",
       "      <th>PC3</th>\n",
       "      <th>PC4</th>\n",
       "      <th>PC5</th>\n",
       "    </tr>\n",
       "    <tr>\n",
       "      <th>time</th>\n",
       "      <th></th>\n",
       "      <th></th>\n",
       "      <th></th>\n",
       "      <th></th>\n",
       "      <th></th>\n",
       "    </tr>\n",
       "  </thead>\n",
       "  <tbody>\n",
       "    <tr>\n",
       "      <th>1958-01-01</th>\n",
       "      <td>6.543111</td>\n",
       "      <td>0.855014</td>\n",
       "      <td>-0.263123</td>\n",
       "      <td>1.142339</td>\n",
       "      <td>0.382613</td>\n",
       "    </tr>\n",
       "    <tr>\n",
       "      <th>1958-01-02</th>\n",
       "      <td>3.433748</td>\n",
       "      <td>0.999208</td>\n",
       "      <td>-3.576154</td>\n",
       "      <td>1.231995</td>\n",
       "      <td>0.973344</td>\n",
       "    </tr>\n",
       "    <tr>\n",
       "      <th>1958-01-03</th>\n",
       "      <td>3.250841</td>\n",
       "      <td>0.404701</td>\n",
       "      <td>-2.427313</td>\n",
       "      <td>0.777030</td>\n",
       "      <td>0.843234</td>\n",
       "    </tr>\n",
       "    <tr>\n",
       "      <th>1958-01-04</th>\n",
       "      <td>4.769241</td>\n",
       "      <td>1.066436</td>\n",
       "      <td>-2.498718</td>\n",
       "      <td>-1.622930</td>\n",
       "      <td>0.601027</td>\n",
       "    </tr>\n",
       "    <tr>\n",
       "      <th>1958-01-05</th>\n",
       "      <td>6.530816</td>\n",
       "      <td>0.986458</td>\n",
       "      <td>-4.493584</td>\n",
       "      <td>-3.818093</td>\n",
       "      <td>0.654022</td>\n",
       "    </tr>\n",
       "  </tbody>\n",
       "</table>\n",
       "</div>"
      ],
      "text/plain": [
       "                 PC1       PC2       PC3       PC4       PC5\n",
       "time                                                        \n",
       "1958-01-01  6.543111  0.855014 -0.263123  1.142339  0.382613\n",
       "1958-01-02  3.433748  0.999208 -3.576154  1.231995  0.973344\n",
       "1958-01-03  3.250841  0.404701 -2.427313  0.777030  0.843234\n",
       "1958-01-04  4.769241  1.066436 -2.498718 -1.622930  0.601027\n",
       "1958-01-05  6.530816  0.986458 -4.493584 -3.818093  0.654022"
      ]
     },
     "execution_count": 61,
     "metadata": {},
     "output_type": "execute_result"
    }
   ],
   "source": [
    "PCdf.head()"
   ]
  },
  {
   "cell_type": "code",
   "execution_count": null,
   "metadata": {},
   "outputs": [
    {
     "data": {
      "text/html": [
       "<div>\n",
       "<style scoped>\n",
       "    .dataframe tbody tr th:only-of-type {\n",
       "        vertical-align: middle;\n",
       "    }\n",
       "\n",
       "    .dataframe tbody tr th {\n",
       "        vertical-align: top;\n",
       "    }\n",
       "\n",
       "    .dataframe thead th {\n",
       "        text-align: right;\n",
       "    }\n",
       "</style>\n",
       "<table border=\"1\" class=\"dataframe\">\n",
       "  <thead>\n",
       "    <tr style=\"text-align: right;\">\n",
       "      <th></th>\n",
       "      <th>PC1</th>\n",
       "      <th>PC2</th>\n",
       "      <th>PC3</th>\n",
       "      <th>PC4</th>\n",
       "      <th>PC5</th>\n",
       "    </tr>\n",
       "    <tr>\n",
       "      <th>time</th>\n",
       "      <th></th>\n",
       "      <th></th>\n",
       "      <th></th>\n",
       "      <th></th>\n",
       "      <th></th>\n",
       "    </tr>\n",
       "  </thead>\n",
       "  <tbody>\n",
       "    <tr>\n",
       "      <th>1997-06-26</th>\n",
       "      <td>-12.598287</td>\n",
       "      <td>-2.727669</td>\n",
       "      <td>-2.329994</td>\n",
       "      <td>-0.190078</td>\n",
       "      <td>5.302011</td>\n",
       "    </tr>\n",
       "    <tr>\n",
       "      <th>1997-06-27</th>\n",
       "      <td>-11.488330</td>\n",
       "      <td>-1.277163</td>\n",
       "      <td>-2.327301</td>\n",
       "      <td>1.154987</td>\n",
       "      <td>5.969667</td>\n",
       "    </tr>\n",
       "    <tr>\n",
       "      <th>1997-06-28</th>\n",
       "      <td>-10.283320</td>\n",
       "      <td>3.672684</td>\n",
       "      <td>0.561116</td>\n",
       "      <td>-0.142913</td>\n",
       "      <td>5.680112</td>\n",
       "    </tr>\n",
       "    <tr>\n",
       "      <th>1997-06-29</th>\n",
       "      <td>-6.354344</td>\n",
       "      <td>7.259831</td>\n",
       "      <td>3.595387</td>\n",
       "      <td>1.509185</td>\n",
       "      <td>5.147995</td>\n",
       "    </tr>\n",
       "    <tr>\n",
       "      <th>1997-06-30</th>\n",
       "      <td>0.149306</td>\n",
       "      <td>10.819015</td>\n",
       "      <td>-1.595984</td>\n",
       "      <td>1.459569</td>\n",
       "      <td>1.896389</td>\n",
       "    </tr>\n",
       "  </tbody>\n",
       "</table>\n",
       "</div>"
      ],
      "text/plain": [
       "                  PC1        PC2       PC3       PC4       PC5\n",
       "time                                                          \n",
       "1997-06-26 -12.598287  -2.727669 -2.329994 -0.190078  5.302011\n",
       "1997-06-27 -11.488330  -1.277163 -2.327301  1.154987  5.969667\n",
       "1997-06-28 -10.283320   3.672684  0.561116 -0.142913  5.680112\n",
       "1997-06-29  -6.354344   7.259831  3.595387  1.509185  5.147995\n",
       "1997-06-30   0.149306  10.819015 -1.595984  1.459569  1.896389"
      ]
     },
     "execution_count": 62,
     "metadata": {},
     "output_type": "execute_result"
    }
   ],
   "source": [
    "PCdf.tail()"
   ]
  },
  {
   "cell_type": "code",
   "execution_count": null,
   "metadata": {
    "collapsed": true
   },
   "outputs": [],
   "source": [
    "PCdf.plot(subplots=True, figsize=(12,10));"
   ]
  },
  {
   "cell_type": "markdown",
   "metadata": {},
   "source": [
    "### The K-means clustering class is found in the [clustering](http://scikit-learn.org/stable/modules/clustering.html#clustering) submodule of scikit-learn"
   ]
  },
  {
   "cell_type": "code",
   "execution_count": null,
   "metadata": {
    "collapsed": true
   },
   "outputs": [],
   "source": [
    "from sklearn.cluster import KMeans"
   ]
  },
  {
   "cell_type": "markdown",
   "metadata": {},
   "source": [
    "#### specify the number of clusters here ... "
   ]
  },
  {
   "cell_type": "code",
   "execution_count": null,
   "metadata": {
    "collapsed": true
   },
   "outputs": [],
   "source": [
    "nclusters = 12"
   ]
  },
  {
   "cell_type": "markdown",
   "metadata": {},
   "source": [
    "#### initialise the KMeans class with the parameters, n_jobs=-1 means the computations will be distributed accross the cores of your machine (if you have a multicore CPU)"
   ]
  },
  {
   "cell_type": "code",
   "execution_count": null,
   "metadata": {
    "collapsed": true
   },
   "outputs": [],
   "source": [
    "kmeans = KMeans(init='k-means++', n_clusters=nclusters, n_init=10, n_jobs=-1)"
   ]
  },
  {
   "cell_type": "markdown",
   "metadata": {},
   "source": [
    "#### fit ... "
   ]
  },
  {
   "cell_type": "code",
   "execution_count": null,
   "metadata": {
    "collapsed": true
   },
   "outputs": [],
   "source": [
    "kmeans.fit(PCdf.values)"
   ]
  },
  {
   "cell_type": "markdown",
   "metadata": {},
   "source": [
    "#### `kmeans.labels_` contains the unique labels for each day: i.e. a number from 0 to nclusters-1 indicating to which cluster (regime) each day belongs"
   ]
  },
  {
   "cell_type": "code",
   "execution_count": null,
   "metadata": {
    "collapsed": true
   },
   "outputs": [],
   "source": [
    "kmeans.labels_"
   ]
  },
  {
   "cell_type": "code",
   "execution_count": null,
   "metadata": {
    "collapsed": true
   },
   "outputs": [],
   "source": [
    "np.unique(kmeans.labels_)"
   ]
  },
  {
   "cell_type": "markdown",
   "metadata": {},
   "source": [
    "#### we put that into a Pandas DataFrame and assign the corresponding date to each day "
   ]
  },
  {
   "cell_type": "code",
   "execution_count": null,
   "metadata": {
    "collapsed": true
   },
   "outputs": [],
   "source": [
    "labels = pd.DataFrame(kmeans.labels_, index=dset['time'], columns=['cluster'])"
   ]
  },
  {
   "cell_type": "code",
   "execution_count": null,
   "metadata": {
    "collapsed": true
   },
   "outputs": [],
   "source": [
    "labels.head()"
   ]
  },
  {
   "cell_type": "code",
   "execution_count": null,
   "metadata": {
    "collapsed": true
   },
   "outputs": [],
   "source": [
    "c = 0"
   ]
  },
  {
   "cell_type": "code",
   "execution_count": null,
   "metadata": {
    "collapsed": true
   },
   "outputs": [],
   "source": [
    "index = labels.query('cluster == {}'.format(c))"
   ]
  },
  {
   "cell_type": "code",
   "execution_count": null,
   "metadata": {
    "collapsed": true
   },
   "outputs": [],
   "source": [
    "nbdays = len(index)"
   ]
  },
  {
   "cell_type": "code",
   "execution_count": null,
   "metadata": {
    "collapsed": true
   },
   "outputs": [],
   "source": [
    "nbdays"
   ]
  },
  {
   "cell_type": "code",
   "execution_count": null,
   "metadata": {
    "collapsed": true
   },
   "outputs": [],
   "source": [
    "cluster = dset.sel(time=index.index).mean('time')"
   ]
  },
  {
   "cell_type": "code",
   "execution_count": null,
   "metadata": {
    "collapsed": true
   },
   "outputs": [],
   "source": [
    "cluster"
   ]
  },
  {
   "cell_type": "code",
   "execution_count": null,
   "metadata": {
    "collapsed": true
   },
   "outputs": [],
   "source": [
    "clusters = []\n",
    "nbdays = []\n",
    "for c in range(nclusters): \n",
    "    index = labels.query('cluster == {}'.format(c)) \n",
    "    nbdays.append(len(index))\n",
    "    cluster = dset.sel(time=index.index).mean('time')\n",
    "    clusters.append(cluster)"
   ]
  },
  {
   "cell_type": "code",
   "execution_count": null,
   "metadata": {
    "collapsed": true
   },
   "outputs": [],
   "source": [
    "clusters = xr.concat(clusters, dim='cluster')"
   ]
  },
  {
   "cell_type": "code",
   "execution_count": null,
   "metadata": {
    "collapsed": true
   },
   "outputs": [],
   "source": [
    "clusters"
   ]
  },
  {
   "cell_type": "code",
   "execution_count": null,
   "metadata": {
    "collapsed": true
   },
   "outputs": [],
   "source": [
    "f = clusters['hgt'].plot.contour(x='lon', y='lat', col='cluster', col_wrap=3, levels=np.arange(-150,200,20))"
   ]
  },
  {
   "cell_type": "code",
   "execution_count": null,
   "metadata": {
    "collapsed": true
   },
   "outputs": [],
   "source": [
    "sum(nbdays)"
   ]
  },
  {
   "cell_type": "code",
   "execution_count": null,
   "metadata": {
    "collapsed": true
   },
   "outputs": [],
   "source": [
    "f, axes = plt.subplots(nrows=3, ncols=4, figsize=(10,8), subplot_kw={'projection':proj})\n",
    "f.subplots_adjust(wspace=0.1, hspace=0.1)\n",
    "axes = axes.flatten() \n",
    "for c in range(nclusters): \n",
    "    ax = axes[c]\n",
    "    clus = clusters.sel(cluster=c)\n",
    "    make_map(clus['hgt'], lons, lats, step=25, ax=ax)\n",
    "    ax.text(0.05, 0.9, \"{}: {:3.2f}%\".format(c, nbdays[c] / sum(nbdays) * 100), transform=ax.transAxes, bbox=dict(facecolor='w', alpha=0.5))"
   ]
  },
  {
   "cell_type": "code",
   "execution_count": null,
   "metadata": {
    "collapsed": true
   },
   "outputs": [],
   "source": [
    "f.savefig('./images/Kidson_clusters.png', dpi=200)"
   ]
  },
  {
   "cell_type": "code",
   "execution_count": null,
   "metadata": {
    "collapsed": true
   },
   "outputs": [],
   "source": [
    "!open ./images/Kidson_Archetypes.png"
   ]
  },
  {
   "cell_type": "code",
   "execution_count": null,
   "metadata": {
    "collapsed": true
   },
   "outputs": [],
   "source": [
    "Image('./images/Kidson_Archetypes.png', width=700)"
   ]
  },
  {
   "cell_type": "markdown",
   "metadata": {},
   "source": [
    "### look at the seasonal distribution of the synoptic types / weather regimes"
   ]
  },
  {
   "cell_type": "code",
   "execution_count": null,
   "metadata": {
    "collapsed": true
   },
   "outputs": [],
   "source": [
    "f, axes = plt.subplots(nrows=4, ncols=3, figsize=(10,14))\n",
    "axes = axes.flatten() \n",
    "for c in range(nclusters): \n",
    "    ax = axes[c]\n",
    "    cf = labels.query('cluster == {}'.format(c))\n",
    "    # in percentage\n",
    "    ((cf.groupby(cf.index.month).count()) / len(cf) * 100).plot(kind='bar', width=1, ax=ax, legend=None)\n",
    "    # in number of days\n",
    "#     cf.groupby(cf.index.month).count().plot(kind='bar', width=1, ax=ax, legend=None)\n",
    "    ax.set_ylim(0, None)\n",
    "    ax.grid(ls=':')\n",
    "    ax.text(0.05, 0.9, 'cluster {}'.format(c), transform=ax.transAxes, bbox=dict(facecolor='w', alpha=0.5))\n",
    "    ax.set_xticklabels(list('JFMAMJJASOND'), rotation=0)\n",
    "    ax.set_xlabel('')"
   ]
  },
  {
   "cell_type": "code",
   "execution_count": null,
   "metadata": {
    "collapsed": true
   },
   "outputs": [],
   "source": []
  }
 ],
 "metadata": {
  "kernelspec": {
   "display_name": "Python [default]",
   "language": "python",
   "name": "python3"
  },
  "language_info": {
   "codemirror_mode": {
    "name": "ipython",
    "version": 3
   },
   "file_extension": ".py",
   "mimetype": "text/x-python",
   "name": "python",
   "nbconvert_exporter": "python",
   "pygments_lexer": "ipython3",
   "version": "3.6.2"
  },
  "toc": {
   "colors": {
    "hover_highlight": "#DAA520",
    "running_highlight": "#FF0000",
    "selected_highlight": "#FFD700"
   },
   "moveMenuLeft": true,
   "nav_menu": {
    "height": "12px",
    "width": "252px"
   },
   "navigate_menu": true,
   "number_sections": true,
   "sideBar": true,
   "threshold": 4,
   "toc_cell": false,
   "toc_section_display": "block",
   "toc_window_display": false,
   "widenNotebook": false
  }
 },
 "nbformat": 4,
 "nbformat_minor": 2
}
